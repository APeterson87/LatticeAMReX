{
 "cells": [
  {
   "cell_type": "code",
   "execution_count": 1,
   "id": "a2205dde",
   "metadata": {},
   "outputs": [],
   "source": [
    "from STvAR_v3 import *\n",
    "from STvARMetricObjects import *\n",
    "from STvARFiniteDifference import *\n",
    "from STvARAdvection import *\n",
    "from STvARSymbolParsing import *\n",
    "from STvARIndexing import*"
   ]
  },
  {
   "cell_type": "code",
   "execution_count": 17,
   "id": "f429ddf0",
   "metadata": {},
   "outputs": [],
   "source": [
    "p0r = stvar('Real_0', gridvar = True, vartype = 'p_fab', isreal=True)\n",
    "p0i = stvar('Imaginary_0', gridvar = True, vartype = 'p_fab', isreal=True)\n",
    "\n",
    "p1r = stvar('Real_1', gridvar = True, vartype = 'p_fab', isreal=True)\n",
    "p1i = stvar('Imaginary_1', gridvar = True, vartype = 'p_fab', isreal=True)\n",
    "\n",
    "p_U = stvarrank1('p_U', gridvar = True, vartype = 'p_fab', dim = 2)\n",
    "p_U.isymb[0] = p0r.isymb + sp.I*p0i.isymb\n",
    "p_U.isymb[1] = p1r.isymb + sp.I*p1i.isymb\n",
    "\n",
    "g3Dphi0r = stvar('Real_0', gridvar = True, vartype = 'g3Dphi_fab', isreal=True)\n",
    "g3Dphi0i = stvar('Imaginary_0', gridvar = True, vartype = 'g3Dphi_fab', isreal=True)\n",
    "\n",
    "g3Dphi1r = stvar('Real_1', gridvar = True, vartype = 'g3Dphi_fab', isreal=True)\n",
    "g3Dphi1i = stvar('Imaginary_1', gridvar = True, vartype = 'g3Dphi_fab', isreal=True)\n",
    "\n",
    "g3Dphi_U = stvarrank1('g3Dphi_U', gridvar = True, vartype = 'g3Dphi_fab', dim = 2)\n",
    "g3Dphi_U.isymb[0] = g3Dphi0r.isymb + sp.I*g3Dphi0i.isymb\n",
    "g3Dphi_U.isymb[1] = g3Dphi1r.isymb + sp.I*g3Dphi1i.isymb\n",
    "\n",
    "conjugatep_U = stvarrank1('conjp_U', dim = 2)\n",
    "conjugatep_U.isymb[0] = sp.conjugate(p_U.isymb[0])\n",
    "conjugatep_U.isymb[1] = sp.conjugate(p_U.isymb[1])\n",
    "\n",
    "u0r = stvar('Real_0', gridvar = True, vartype = 'U_fab', isreal=True)\n",
    "u0i = stvar('Imaginary_0', gridvar = True, vartype = 'U_fab', isreal=True)\n",
    "\n",
    "u1r = stvar('Real_1', gridvar = True, vartype = 'U_fab', isreal=True)\n",
    "u1i = stvar('Imaginary_1', gridvar = True, vartype = 'U_fab', isreal=True)\n",
    "\n",
    "u_U = stvarrank1('u_U', gridvar = True, vartype = 'U_fab', dim = 2)\n",
    "u_U.isymb[0] = u0r.isymb + sp.I*u0i.isymb\n",
    "u_U.isymb[1] = u1r.isymb + sp.I*u1i.isymb\n",
    "\n",
    "conjugateu_U = stvarrank1('conju_U', dim = 2)\n",
    "conjugateu_U.isymb[0] = sp.conjugate(u_U.isymb[0])\n",
    "conjugateu_U.isymb[1] = sp.conjugate(u_U.isymb[1])\n",
    "\n",
    "\n",
    "FD0 = stvar('FD0', gridvar = True, vartype = 'FD_fab')\n",
    "FD1 = stvar('FD1', gridvar = True, vartype = 'FD_fab')\n",
    "FD_U = stvarrank1('FD_U', gridvar = True, vartype = 'FD_fab', dim = 2)"
   ]
  },
  {
   "cell_type": "code",
   "execution_count": 3,
   "id": "9fe7bcc2",
   "metadata": {},
   "outputs": [],
   "source": [
    "gamma_1 = sp.Matrix([[0,1],[1,0]])\n",
    "gamma_2 = sp.Matrix([[0,-sp.I],[sp.I,0]])\n",
    "gamma_3 = sp.Matrix([[1,0],[0,-1]])"
   ]
  },
  {
   "cell_type": "code",
   "execution_count": 29,
   "id": "41d68af0",
   "metadata": {},
   "outputs": [],
   "source": [
    "FD0.isymb = (conjugateu_U.isymb[0] *(shift(conjugatep_U.isymb[0],[1,0,0,0]) * (g3Dphi_U.isymb[0] +   g3Dphi_U.isymb[1]) - shift(conjugatep_U.isymb[1],[1,0,0,0]) * (g3Dphi_U.isymb[0] +   g3Dphi_U.isymb[1])))-(u_U.isymb[0] *(conjugatep_U.isymb[0] * (shift(g3Dphi_U.isymb[0],[1,0,0,0]) - shift(g3Dphi_U.isymb[1],[1,0,0,0])) + conjugatep_U.isymb[1] * (shift(g3Dphi_U.isymb[0],[1,0,0,0]) - shift(g3Dphi_U.isymb[1],[1,0,0,0]))))\n",
    "FD0.isymb *= sp.I\n",
    "FD0.isymb = sp.re(FD0.isymb)\n",
    "FD0.isymb = sp.simplify(FD0.isymb)\n",
    "\n",
    "FD1.isymb = (conjugateu_U.isymb[1] *(shift(conjugatep_U.isymb[0],[0,1,0,0]) * (g3Dphi_U.isymb[0] - sp.I*g3Dphi_U.isymb[1]) - shift(conjugatep_U.isymb[1],[0,1,0,0]) * (sp.I*g3Dphi_U.isymb[0] +   g3Dphi_U.isymb[1])))-(u_U.isymb[1] *(conjugatep_U.isymb[0] * (shift(g3Dphi_U.isymb[0],[0,1,0,0]) + sp.I*shift(g3Dphi_U.isymb[1],[0,1,0,0])) + conjugatep_U.isymb[1] * (sp.I*shift(g3Dphi_U.isymb[0],[0,1,0,0]) - shift(g3Dphi_U.isymb[1],[0,1,0,0]))))\n",
    "FD1.isymb *= sp.I\n",
    "FD1.isymb = sp.re(FD1.isymb)\n",
    "FD1.isymb = sp.simplify(FD1.isymb)"
   ]
  },
  {
   "cell_type": "code",
   "execution_count": 30,
   "id": "6a884390",
   "metadata": {},
   "outputs": [
    {
     "name": "stdout",
     "output_type": "stream",
     "text": [
      "        amrex::Real FD0 = (g3Dphi_fab(i + 1, j, k, g3Dphi_fabIdx::Imaginary_0)*p_fab(i, j, k, p_fabIdx::Imaginary_0) - g3Dphi_fab(i + 1, j, k, g3Dphi_fabIdx::Imaginary_1)*p_fab(i, j, k, p_fabIdx::Imaginary_0) + g3Dphi_fab(i + 1, j, k, g3Dphi_fabIdx::Real_0)*p_fab(i, j, k, p_fabIdx::Real_0) - g3Dphi_fab(i + 1, j, k, g3Dphi_fabIdx::Real_1)*p_fab(i, j, k, p_fabIdx::Real_0))*U_fab(i, j, k, U_fabIdx::Imaginary_0) + (g3Dphi_fab(i + 1, j, k, g3Dphi_fabIdx::Imaginary_0)*p_fab(i, j, k, p_fabIdx::Imaginary_1) - g3Dphi_fab(i + 1, j, k, g3Dphi_fabIdx::Imaginary_1)*p_fab(i, j, k, p_fabIdx::Imaginary_1) + g3Dphi_fab(i + 1, j, k, g3Dphi_fabIdx::Real_0)*p_fab(i, j, k, p_fabIdx::Real_1) - g3Dphi_fab(i + 1, j, k, g3Dphi_fabIdx::Real_1)*p_fab(i, j, k, p_fabIdx::Real_1))*U_fab(i, j, k, U_fabIdx::Imaginary_0) + (g3Dphi_fab(i + 1, j, k, g3Dphi_fabIdx::Imaginary_0)*p_fab(i, j, k, p_fabIdx::Real_0) - g3Dphi_fab(i + 1, j, k, g3Dphi_fabIdx::Imaginary_1)*p_fab(i, j, k, p_fabIdx::Real_0) - g3Dphi_fab(i + 1, j, k, g3Dphi_fabIdx::Real_0)*p_fab(i, j, k, p_fabIdx::Imaginary_0) + g3Dphi_fab(i + 1, j, k, g3Dphi_fabIdx::Real_1)*p_fab(i, j, k, p_fabIdx::Imaginary_0))*U_fab(i, j, k, U_fabIdx::Real_0) + (g3Dphi_fab(i + 1, j, k, g3Dphi_fabIdx::Imaginary_0)*p_fab(i, j, k, p_fabIdx::Real_1) - g3Dphi_fab(i + 1, j, k, g3Dphi_fabIdx::Imaginary_1)*p_fab(i, j, k, p_fabIdx::Real_1) - g3Dphi_fab(i + 1, j, k, g3Dphi_fabIdx::Real_0)*p_fab(i, j, k, p_fabIdx::Imaginary_1) + g3Dphi_fab(i + 1, j, k, g3Dphi_fabIdx::Real_1)*p_fab(i, j, k, p_fabIdx::Imaginary_1))*U_fab(i, j, k, U_fabIdx::Real_0) + (g3Dphi_fab(i, j, k, g3Dphi_fabIdx::Imaginary_0)*p_fab(i + 1, j, k, p_fabIdx::Imaginary_0) + g3Dphi_fab(i, j, k, g3Dphi_fabIdx::Imaginary_1)*p_fab(i + 1, j, k, p_fabIdx::Imaginary_0) + g3Dphi_fab(i, j, k, g3Dphi_fabIdx::Real_0)*p_fab(i + 1, j, k, p_fabIdx::Real_0) + g3Dphi_fab(i, j, k, g3Dphi_fabIdx::Real_1)*p_fab(i + 1, j, k, p_fabIdx::Real_0))*U_fab(i, j, k, U_fabIdx::Imaginary_0) - (g3Dphi_fab(i, j, k, g3Dphi_fabIdx::Imaginary_0)*p_fab(i + 1, j, k, p_fabIdx::Imaginary_1) + g3Dphi_fab(i, j, k, g3Dphi_fabIdx::Imaginary_1)*p_fab(i + 1, j, k, p_fabIdx::Imaginary_1) + g3Dphi_fab(i, j, k, g3Dphi_fabIdx::Real_0)*p_fab(i + 1, j, k, p_fabIdx::Real_1) + g3Dphi_fab(i, j, k, g3Dphi_fabIdx::Real_1)*p_fab(i + 1, j, k, p_fabIdx::Real_1))*U_fab(i, j, k, U_fabIdx::Imaginary_0) - (g3Dphi_fab(i, j, k, g3Dphi_fabIdx::Imaginary_0)*p_fab(i + 1, j, k, p_fabIdx::Real_0) + g3Dphi_fab(i, j, k, g3Dphi_fabIdx::Imaginary_1)*p_fab(i + 1, j, k, p_fabIdx::Real_0) - g3Dphi_fab(i, j, k, g3Dphi_fabIdx::Real_0)*p_fab(i + 1, j, k, p_fabIdx::Imaginary_0) - g3Dphi_fab(i, j, k, g3Dphi_fabIdx::Real_1)*p_fab(i + 1, j, k, p_fabIdx::Imaginary_0))*U_fab(i, j, k, U_fabIdx::Real_0) + (g3Dphi_fab(i, j, k, g3Dphi_fabIdx::Imaginary_0)*p_fab(i + 1, j, k, p_fabIdx::Real_1) + g3Dphi_fab(i, j, k, g3Dphi_fabIdx::Imaginary_1)*p_fab(i + 1, j, k, p_fabIdx::Real_1) - g3Dphi_fab(i, j, k, g3Dphi_fabIdx::Real_0)*p_fab(i + 1, j, k, p_fabIdx::Imaginary_1) - g3Dphi_fab(i, j, k, g3Dphi_fabIdx::Real_1)*p_fab(i + 1, j, k, p_fabIdx::Imaginary_1))*U_fab(i, j, k, U_fabIdx::Real_0);\n",
      "\n",
      "\n"
     ]
    }
   ],
   "source": [
    "print(FD0.symb2isymb())"
   ]
  },
  {
   "cell_type": "code",
   "execution_count": null,
   "id": "d0f790e9",
   "metadata": {},
   "outputs": [],
   "source": []
  },
  {
   "cell_type": "code",
   "execution_count": null,
   "id": "e3926dea",
   "metadata": {},
   "outputs": [],
   "source": [
    "(conj(gauge->read(x,y,0)) *\n",
    "\t\t\t (conj(phip->read(xp1,y,0)) * (r*g3Dphi->read(x,y,0) +   g3Dphi->read(x,y,1)) -\n",
    "\t\t\t  conj(phip->read(xp1,y,1)) * (  g3Dphi->read(x,y,0) + r*g3Dphi->read(x,y,1))))\n",
    "\t\t\t-\n",
    "\t\t\t(gauge->read(x,y,0) *\n",
    "\t\t\t (conj(phip->read(x,y,0)) * (r*g3Dphi->read(xp1,y,0) -   g3Dphi->read(xp1,y,1)) +\n",
    "\t\t\t  conj(phip->read(x,y,1)) * (  g3Dphi->read(xp1,y,0) - r*g3Dphi->read(xp1,y,1))))\n",
    "\t\t\t"
   ]
  },
  {
   "cell_type": "code",
   "execution_count": null,
   "id": "75981aa3",
   "metadata": {},
   "outputs": [],
   "source": [
    "(conj(gauge->read(x,y,1)) *\n",
    "\t\t\t (conj(phip->read(x,yp1,0)) * (r*g3Dphi->read(x,y,0) - I*g3Dphi->read(x,y,1)) -\n",
    "\t\t\t  conj(phip->read(x,yp1,1)) * (I*g3Dphi->read(x,y,0) + r*g3Dphi->read(x,y,1))))\n",
    "\t\t\t-\t\t\t       \n",
    "\t\t\t(gauge->read(x,y,1) *\n",
    "\t\t\t (conj(phip->read(x,y,0)) * (r*g3Dphi->read(x,yp1,0) + I*g3Dphi->read(x,yp1,1)) +\n",
    "\t\t\t  conj(phip->read(x,y,1)) * (I*g3Dphi->read(x,yp1,0) - r*g3Dphi->read(x,yp1,1))))\n",
    "\t\t\t\n"
   ]
  }
 ],
 "metadata": {
  "kernelspec": {
   "display_name": "Python 3",
   "language": "python",
   "name": "python3"
  },
  "language_info": {
   "codemirror_mode": {
    "name": "ipython",
    "version": 3
   },
   "file_extension": ".py",
   "mimetype": "text/x-python",
   "name": "python",
   "nbconvert_exporter": "python",
   "pygments_lexer": "ipython3",
   "version": "3.8.10"
  }
 },
 "nbformat": 4,
 "nbformat_minor": 5
}
