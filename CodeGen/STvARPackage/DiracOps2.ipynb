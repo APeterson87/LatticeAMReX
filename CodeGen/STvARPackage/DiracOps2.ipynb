{
 "cells": [
  {
   "cell_type": "code",
   "execution_count": 1,
   "id": "696c13d4",
   "metadata": {},
   "outputs": [],
   "source": [
    "from STvAR_v3 import *\n",
    "from STvARMetricObjects import *\n",
    "from STvARFiniteDifference import *\n",
    "from STvARAdvection import *\n",
    "from STvARSymbolParsing import *\n",
    "from STvARIndexing import*"
   ]
  },
  {
   "cell_type": "code",
   "execution_count": 2,
   "id": "e2ea0316",
   "metadata": {},
   "outputs": [],
   "source": [
    "p0r = stvar('Real_0', gridvar = True, vartype = 'p_fab', isreal=True)\n",
    "p0i = stvar('Imaginary_0', gridvar = True, vartype = 'p_fab', isreal=True)\n",
    "\n",
    "p1r = stvar('Real_1', gridvar = True, vartype = 'p_fab', isreal=True)\n",
    "p1i = stvar('Imaginary_1', gridvar = True, vartype = 'p_fab', isreal=True)\n",
    "\n",
    "p_U = stvarrank1('p_U', gridvar = True, vartype = 'U_fab', dim = 2)\n",
    "p_U.isymb[0] = p0r.isymb + sp.I*p0i.isymb\n",
    "p_U.isymb[1] = p1r.isymb + sp.I*p1i.isymb\n",
    "\n",
    "u0r = stvar('Real_0', gridvar = True, vartype = 'U_fab', isreal=True)\n",
    "u0i = stvar('Imaginary_0', gridvar = True, vartype = 'U_fab', isreal=True)\n",
    "\n",
    "u1r = stvar('Real_1', gridvar = True, vartype = 'U_fab', isreal=True)\n",
    "u1i = stvar('Imaginary_1', gridvar = True, vartype = 'U_fab', isreal=True)\n",
    "\n",
    "u_U = stvarrank1('u_U', gridvar = True, vartype = 'U_fab', dim = 2)\n",
    "u_U.isymb[0] = u0r.isymb + sp.I*u0i.isymb\n",
    "u_U.isymb[1] = u1r.isymb + sp.I*u1i.isymb"
   ]
  },
  {
   "cell_type": "code",
   "execution_count": 3,
   "id": "3dba7e71",
   "metadata": {},
   "outputs": [],
   "source": [
    "gamma_1 = sp.Matrix([[0,1],[1,0]])\n",
    "gamma_2 = sp.Matrix([[0,-sp.I],[sp.I,0]])\n",
    "gamma_3 = sp.Matrix([[1,0],[0,-1]])"
   ]
  },
  {
   "cell_type": "code",
   "execution_count": 4,
   "id": "697c36e7",
   "metadata": {},
   "outputs": [],
   "source": [
    "def sigma1Psi(Psi_U):\n",
    "    sigma1Psi_U = stvarrank1('sigma1Psi_U', dim = 2)\n",
    "    \n",
    "    sigma1Psi_U_tmp = gamma_1*sp.Matrix([Psi_U.isymb[0], Psi_U.isymb[1]])\n",
    "    \n",
    "    sigma1Psi_U.isymb[0] = sigma1Psi_U_tmp[0]\n",
    "    sigma1Psi_U.isymb[1] = sigma1Psi_U_tmp[1]\n",
    "    \n",
    "    return sigma1Psi_U\n",
    "\n",
    "def sigma2Psi(Psi_U):\n",
    "    sigma2Psi_U = stvarrank1('sigma2Psi_U', dim = 2)\n",
    "    \n",
    "    sigma2Psi_U_tmp = gamma_2*sp.Matrix([Psi_U.isymb[0], Psi_U.isymb[1]])\n",
    "    \n",
    "    sigma2Psi_U.isymb[0] = sigma2Psi_U_tmp[0]\n",
    "    sigma2Psi_U.isymb[1] = sigma2Psi_U_tmp[1]\n",
    "    \n",
    "    return sigma2Psi_U\n",
    "\n",
    "def sigma3Psi(Psi_U):\n",
    "    sigma3Psi_U = stvarrank1('sigma3Psi_U', dim = 2)\n",
    "    \n",
    "    sigma3Psi_U_tmp = gamma_3*sp.Matrix([Psi_U.isymb[0], Psi_U.isymb[1]])\n",
    "    \n",
    "    sigma3Psi_U.isymb[0] = sigma3Psi_U_tmp[0]\n",
    "    sigma3Psi_U.isymb[1] = sigma3Psi_U_tmp[1]\n",
    "    \n",
    "    return sigma3Psi_U"
   ]
  },
  {
   "cell_type": "code",
   "execution_count": 5,
   "id": "dc4c06eb",
   "metadata": {},
   "outputs": [],
   "source": [
    "def MuDPsi(psi_U,u_U, r):\n",
    "    MuDpsi_U = stvarrank1('uDpsi_U', dim = 2)\n",
    "    \n",
    "    conjugateu_U = stvarrank1('conju_U', dim = 2)\n",
    "    conjugateu_U.isymb[0] = sp.conjugate(u_U.isymb[0])\n",
    "    conjugateu_U.isymb[1] = sp.conjugate(u_U.isymb[1])\n",
    "    \n",
    "    psi_U_tmp = sp.Matrix([psi_U.isymb[0], psi_U.isymb[1]])\n",
    "    \n",
    "    M1 = sp.eye(2) - gamma_1\n",
    "    M2 = sp.eye(2) - gamma_2\n",
    "    \n",
    "    Mm1 = sp.eye(2) + gamma_1\n",
    "    Mm2 = sp.eye(2) + gamma_2\n",
    "    \n",
    "    M1psi_U = M1*psi_U_tmp\n",
    "    M2psi_U = M2*psi_U_tmp\n",
    "    \n",
    "    Mm1psi_U = Mm1*psi_U_tmp\n",
    "    Mm2psi_U = Mm2*psi_U_tmp\n",
    "    \n",
    "    MuDpsi_U.isymb[0] = u_U.isymb[0]*shift(M1psi_U[0],[1,0,0,0])+u_U.isymb[1]*shift(M2psi_U[0],[0,1,0,0])\n",
    "    MuDpsi_U.isymb[1] = u_U.isymb[0]*shift(M1psi_U[1],[1,0,0,0])+u_U.isymb[1]*shift(M2psi_U[1],[0,1,0,0])\n",
    "    \n",
    "    MuDpsi_U.isymb[0] += shift(conjugateu_U.isymb[0],[-1,0,0,0])*shift(Mm1psi_U[0],[-1,0,0,0])+shift(conjugateu_U.isymb[1],[0,-1,0,0])*shift(Mm2psi_U[0],[0,-1,0,0])\n",
    "    MuDpsi_U.isymb[1] += shift(conjugateu_U.isymb[0],[-1,0,0,0])*shift(Mm1psi_U[1],[-1,0,0,0])+shift(conjugateu_U.isymb[1],[0,-1,0,0])*shift(Mm2psi_U[1],[0,-1,0,0])\n",
    "    \n",
    "    return MuDpsi_U"
   ]
  },
  {
   "cell_type": "code",
   "execution_count": 6,
   "id": "dc549999",
   "metadata": {},
   "outputs": [],
   "source": [
    "r = sp.symbols('r', real = True)\n",
    "m = sp.symbols('m_0', real = True)"
   ]
  },
  {
   "cell_type": "code",
   "execution_count": 7,
   "id": "d4d39aee",
   "metadata": {},
   "outputs": [],
   "source": [
    "def OpPsi(Psi_U, u_U, m, r):\n",
    "    OpPsi_U = stvarrank1('OpPsi_U', dim = 2)\n",
    "    \n",
    "    OpPsi_U.isymb[0] = (m+2)*Psi_U.isymb[0]\n",
    "    OpPsi_U.isymb[1] = (m+2)*Psi_U.isymb[1]\n",
    "    \n",
    "    MuDPsi_U = MuDPsi(Psi_U, u_U, r)\n",
    "    \n",
    "    OpPsi_U.isymb[0] += MuDPsi_U.isymb[0]\n",
    "    OpPsi_U.isymb[1] += MuDPsi_U.isymb[1]\n",
    "    \n",
    "    OpPsi_U.isymb[0] = sp.simplify(OpPsi_U.isymb[0])\n",
    "    OpPsi_U.isymb[1] = sp.simplify(OpPsi_U.isymb[1])\n",
    "    \n",
    "    \n",
    "    return OpPsi_U"
   ]
  },
  {
   "cell_type": "code",
   "execution_count": 8,
   "id": "c108c2b6",
   "metadata": {},
   "outputs": [],
   "source": [
    "OpPsi_U = sigma3Psi(OpPsi(p_U, u_U, m, r))"
   ]
  },
  {
   "cell_type": "code",
   "execution_count": 9,
   "id": "3feb9229",
   "metadata": {},
   "outputs": [],
   "source": [
    "OpPsiReal_U = stvarrank1('OpPsiReal_U', isreal = True, dim = 2)\n",
    "OpPsiReal_U.isymb[0] = sp.re(OpPsi_U.isymb[0])\n",
    "OpPsiReal_U.isymb[1] = sp.re(OpPsi_U.isymb[1])\n",
    "\n",
    "OpPsiImaginary_U = stvarrank1('OpPsiImaginary_U', isreal = True, dim = 2)\n",
    "OpPsiImaginary_U.isymb[0] = sp.im(OpPsi_U.isymb[0])\n",
    "OpPsiImaginary_U.isymb[1] = sp.im(OpPsi_U.isymb[1])"
   ]
  },
  {
   "cell_type": "code",
   "execution_count": 11,
   "id": "194b7a48",
   "metadata": {
    "scrolled": false
   },
   "outputs": [
    {
     "name": "stdout",
     "output_type": "stream",
     "text": [
      "        amrex::Real OpPsiReal_U_0 = (m_0 + 2)*p_fab(i, j, k, cIdx::Real_0) + U_fab(i - 1, j, k, cIdx::Imaginary_0)*p_fab(i - 1, j, k, cIdx::Imaginary_0) + U_fab(i - 1, j, k, cIdx::Imaginary_0)*p_fab(i - 1, j, k, cIdx::Imaginary_1) + U_fab(i - 1, j, k, cIdx::Real_0)*p_fab(i - 1, j, k, cIdx::Real_0) + U_fab(i - 1, j, k, cIdx::Real_0)*p_fab(i - 1, j, k, cIdx::Real_1) + U_fab(i, j - 1, k, cIdx::Imaginary_1)*p_fab(i, j - 1, k, cIdx::Imaginary_0) - U_fab(i, j - 1, k, cIdx::Imaginary_1)*p_fab(i, j - 1, k, cIdx::Real_1) + U_fab(i, j - 1, k, cIdx::Real_1)*p_fab(i, j - 1, k, cIdx::Imaginary_1) + U_fab(i, j - 1, k, cIdx::Real_1)*p_fab(i, j - 1, k, cIdx::Real_0) - U_fab(i, j, k, cIdx::Imaginary_0)*p_fab(i + 1, j, k, cIdx::Imaginary_0) + U_fab(i, j, k, cIdx::Imaginary_0)*p_fab(i + 1, j, k, cIdx::Imaginary_1) - U_fab(i, j, k, cIdx::Imaginary_1)*p_fab(i, j + 1, k, cIdx::Imaginary_0) - U_fab(i, j, k, cIdx::Imaginary_1)*p_fab(i, j + 1, k, cIdx::Real_1) + U_fab(i, j, k, cIdx::Real_0)*p_fab(i + 1, j, k, cIdx::Real_0) - U_fab(i, j, k, cIdx::Real_0)*p_fab(i + 1, j, k, cIdx::Real_1) - U_fab(i, j, k, cIdx::Real_1)*p_fab(i, j + 1, k, cIdx::Imaginary_1) + U_fab(i, j, k, cIdx::Real_1)*p_fab(i, j + 1, k, cIdx::Real_0);\n",
      "        amrex::Real OpPsiReal_U_1 = (-m_0 - 2)*p_fab(i, j, k, cIdx::Real_1) - U_fab(i - 1, j, k, cIdx::Imaginary_0)*p_fab(i - 1, j, k, cIdx::Imaginary_0) - U_fab(i - 1, j, k, cIdx::Imaginary_0)*p_fab(i - 1, j, k, cIdx::Imaginary_1) - U_fab(i - 1, j, k, cIdx::Real_0)*p_fab(i - 1, j, k, cIdx::Real_0) - U_fab(i - 1, j, k, cIdx::Real_0)*p_fab(i - 1, j, k, cIdx::Real_1) - U_fab(i, j - 1, k, cIdx::Imaginary_1)*p_fab(i, j - 1, k, cIdx::Imaginary_1) - U_fab(i, j - 1, k, cIdx::Imaginary_1)*p_fab(i, j - 1, k, cIdx::Real_0) + U_fab(i, j - 1, k, cIdx::Real_1)*p_fab(i, j - 1, k, cIdx::Imaginary_0) - U_fab(i, j - 1, k, cIdx::Real_1)*p_fab(i, j - 1, k, cIdx::Real_1) - U_fab(i, j, k, cIdx::Imaginary_0)*p_fab(i + 1, j, k, cIdx::Imaginary_0) + U_fab(i, j, k, cIdx::Imaginary_0)*p_fab(i + 1, j, k, cIdx::Imaginary_1) + U_fab(i, j, k, cIdx::Imaginary_1)*p_fab(i, j + 1, k, cIdx::Imaginary_1) - U_fab(i, j, k, cIdx::Imaginary_1)*p_fab(i, j + 1, k, cIdx::Real_0) + U_fab(i, j, k, cIdx::Real_0)*p_fab(i + 1, j, k, cIdx::Real_0) - U_fab(i, j, k, cIdx::Real_0)*p_fab(i + 1, j, k, cIdx::Real_1) - U_fab(i, j, k, cIdx::Real_1)*p_fab(i, j + 1, k, cIdx::Imaginary_0) - U_fab(i, j, k, cIdx::Real_1)*p_fab(i, j + 1, k, cIdx::Real_1);\n",
      "\n",
      "\n",
      "        amrex::Real OpPsiImaginary_U_0 = (m_0 + 2)*p_fab(i, j, k, cIdx::Imaginary_0) - U_fab(i - 1, j, k, cIdx::Imaginary_0)*p_fab(i - 1, j, k, cIdx::Real_0) - U_fab(i - 1, j, k, cIdx::Imaginary_0)*p_fab(i - 1, j, k, cIdx::Real_1) + U_fab(i - 1, j, k, cIdx::Real_0)*p_fab(i - 1, j, k, cIdx::Imaginary_0) + U_fab(i - 1, j, k, cIdx::Real_0)*p_fab(i - 1, j, k, cIdx::Imaginary_1) - U_fab(i, j - 1, k, cIdx::Imaginary_1)*p_fab(i, j - 1, k, cIdx::Imaginary_1) - U_fab(i, j - 1, k, cIdx::Imaginary_1)*p_fab(i, j - 1, k, cIdx::Real_0) + U_fab(i, j - 1, k, cIdx::Real_1)*p_fab(i, j - 1, k, cIdx::Imaginary_0) - U_fab(i, j - 1, k, cIdx::Real_1)*p_fab(i, j - 1, k, cIdx::Real_1) + U_fab(i, j, k, cIdx::Imaginary_0)*p_fab(i + 1, j, k, cIdx::Real_0) - U_fab(i, j, k, cIdx::Imaginary_0)*p_fab(i + 1, j, k, cIdx::Real_1) - U_fab(i, j, k, cIdx::Imaginary_1)*p_fab(i, j + 1, k, cIdx::Imaginary_1) + U_fab(i, j, k, cIdx::Imaginary_1)*p_fab(i, j + 1, k, cIdx::Real_0) + U_fab(i, j, k, cIdx::Real_0)*p_fab(i + 1, j, k, cIdx::Imaginary_0) - U_fab(i, j, k, cIdx::Real_0)*p_fab(i + 1, j, k, cIdx::Imaginary_1) + U_fab(i, j, k, cIdx::Real_1)*p_fab(i, j + 1, k, cIdx::Imaginary_0) + U_fab(i, j, k, cIdx::Real_1)*p_fab(i, j + 1, k, cIdx::Real_1);\n",
      "        amrex::Real OpPsiImaginary_U_1 = (-m_0 - 2)*p_fab(i, j, k, cIdx::Imaginary_1) + U_fab(i - 1, j, k, cIdx::Imaginary_0)*p_fab(i - 1, j, k, cIdx::Real_0) + U_fab(i - 1, j, k, cIdx::Imaginary_0)*p_fab(i - 1, j, k, cIdx::Real_1) - U_fab(i - 1, j, k, cIdx::Real_0)*p_fab(i - 1, j, k, cIdx::Imaginary_0) - U_fab(i - 1, j, k, cIdx::Real_0)*p_fab(i - 1, j, k, cIdx::Imaginary_1) - U_fab(i, j - 1, k, cIdx::Imaginary_1)*p_fab(i, j - 1, k, cIdx::Imaginary_0) + U_fab(i, j - 1, k, cIdx::Imaginary_1)*p_fab(i, j - 1, k, cIdx::Real_1) - U_fab(i, j - 1, k, cIdx::Real_1)*p_fab(i, j - 1, k, cIdx::Imaginary_1) - U_fab(i, j - 1, k, cIdx::Real_1)*p_fab(i, j - 1, k, cIdx::Real_0) + U_fab(i, j, k, cIdx::Imaginary_0)*p_fab(i + 1, j, k, cIdx::Real_0) - U_fab(i, j, k, cIdx::Imaginary_0)*p_fab(i + 1, j, k, cIdx::Real_1) - U_fab(i, j, k, cIdx::Imaginary_1)*p_fab(i, j + 1, k, cIdx::Imaginary_0) - U_fab(i, j, k, cIdx::Imaginary_1)*p_fab(i, j + 1, k, cIdx::Real_1) + U_fab(i, j, k, cIdx::Real_0)*p_fab(i + 1, j, k, cIdx::Imaginary_0) - U_fab(i, j, k, cIdx::Real_0)*p_fab(i + 1, j, k, cIdx::Imaginary_1) - U_fab(i, j, k, cIdx::Real_1)*p_fab(i, j + 1, k, cIdx::Imaginary_1) + U_fab(i, j, k, cIdx::Real_1)*p_fab(i, j + 1, k, cIdx::Real_0);\n",
      "\n",
      "\n"
     ]
    }
   ],
   "source": [
    "print(OpPsiReal_U.symb2isymb().replace(\"p_fabIdx\",\"cIdx\").replace('U_fabIdx','cIdx'))\n",
    "print(OpPsiImaginary_U.symb2isymb().replace(\"p_fabIdx\",\"cIdx\").replace('U_fabIdx','cIdx'))"
   ]
  },
  {
   "cell_type": "code",
   "execution_count": null,
   "id": "94420bf4",
   "metadata": {},
   "outputs": [],
   "source": []
  }
 ],
 "metadata": {
  "kernelspec": {
   "display_name": "Python 3",
   "language": "python",
   "name": "python3"
  },
  "language_info": {
   "codemirror_mode": {
    "name": "ipython",
    "version": 3
   },
   "file_extension": ".py",
   "mimetype": "text/x-python",
   "name": "python",
   "nbconvert_exporter": "python",
   "pygments_lexer": "ipython3",
   "version": "3.8.10"
  }
 },
 "nbformat": 4,
 "nbformat_minor": 5
}
