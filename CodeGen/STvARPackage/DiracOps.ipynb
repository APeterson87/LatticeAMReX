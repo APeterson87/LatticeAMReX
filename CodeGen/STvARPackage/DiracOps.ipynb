{
 "cells": [
  {
   "cell_type": "code",
   "execution_count": 1,
   "id": "5fa4d09e",
   "metadata": {},
   "outputs": [],
   "source": [
    "from STvAR_v3 import *\n",
    "from STvARMetricObjects import *\n",
    "from STvARFiniteDifference import *\n",
    "from STvARAdvection import *\n",
    "from STvARSymbolParsing import *\n",
    "from STvARIndexing import*"
   ]
  },
  {
   "cell_type": "code",
   "execution_count": 2,
   "id": "0a3333a3",
   "metadata": {},
   "outputs": [],
   "source": [
    "p0r = stvar('p0r', gridvar = True, vartype = 'state_fab', isreal=True)\n",
    "p0i = stvar('p0i', gridvar = True, vartype = 'state_fab', isreal=True)\n",
    "\n",
    "p1r = stvar('p1r', gridvar = True, vartype = 'state_fab', isreal=True)\n",
    "p1i = stvar('p1i', gridvar = True, vartype = 'state_fab', isreal=True)\n",
    "\n",
    "p_U = stvarrank1('p_U', gridvar = True, vartype = 'state_fab', dim = 2)\n",
    "p_U.isymb[0] = p0r.isymb + sp.I*p0i.isymb\n",
    "p_U.isymb[1] = p1r.isymb + sp.I*p1i.isymb\n",
    "\n",
    "u0r = stvar('u0r', gridvar = True, vartype = 'state_fab', isreal=True)\n",
    "u0i = stvar('u0i', gridvar = True, vartype = 'state_fab', isreal=True)\n",
    "\n",
    "u1r = stvar('u0r', gridvar = True, vartype = 'state_fab', isreal=True)\n",
    "u1i = stvar('u0i', gridvar = True, vartype = 'state_fab', isreal=True)\n",
    "\n",
    "u_U = stvarrank1('u_U', gridvar = True, vartype = 'state_fab', dim = 2)\n",
    "u_U.isymb[0] = u0r.isymb + sp.I*u0i.isymb\n",
    "u_U.isymb[1] = u1r.isymb + sp.I*u1i.isymb"
   ]
  },
  {
   "cell_type": "code",
   "execution_count": 3,
   "id": "e697cd4c",
   "metadata": {},
   "outputs": [],
   "source": [
    "gamma_1 = sp.Matrix([[0,1],[1,0]])\n",
    "gamma_2 = sp.Matrix([[0,-sp.I],[sp.I,0]])\n",
    "gamma_3 = sp.Matrix([[1,0],[0,-1]])"
   ]
  },
  {
   "cell_type": "code",
   "execution_count": 4,
   "id": "144f3780",
   "metadata": {},
   "outputs": [
    {
     "name": "stdout",
     "output_type": "stream",
     "text": [
      "state_fab[i, j, k, state_fabp0i]\n"
     ]
    }
   ],
   "source": [
    "print(sp.im(p_U.isymb[0]))"
   ]
  },
  {
   "cell_type": "code",
   "execution_count": 5,
   "id": "02bff1be",
   "metadata": {
    "scrolled": true
   },
   "outputs": [
    {
     "name": "stdout",
     "output_type": "stream",
     "text": [
      "state_fab[i + 1, j, k, state_fabp0r]\n"
     ]
    }
   ],
   "source": [
    "print(sp.re(shift(p_U.isymb[0],[1,0,0,0])))"
   ]
  },
  {
   "cell_type": "code",
   "execution_count": 6,
   "id": "a58f92bd",
   "metadata": {},
   "outputs": [
    {
     "name": "stdout",
     "output_type": "stream",
     "text": [
      "I*state_fab[i, j, k, state_fabp0i] + state_fab[i, j, k, state_fabp0r]\n"
     ]
    }
   ],
   "source": [
    "print(p_U.isymb[0])"
   ]
  },
  {
   "cell_type": "code",
   "execution_count": 7,
   "id": "0d242eee",
   "metadata": {},
   "outputs": [],
   "source": [
    "def sigma1Psi(Psi_U):\n",
    "    sigma1Psi_U = stvarrank1('sigma1Psi_U', dim = 2)\n",
    "    \n",
    "    sigma1Psi_U_tmp = gamma_1*sp.Matrix([Psi_U.isymb[0], Psi_U.isymb[1]])\n",
    "    \n",
    "    sigma1Psi_U.isymb[0] = sigma1Psi_U_tmp[0]\n",
    "    sigma1Psi_U.isymb[1] = sigma1Psi_U_tmp[1]\n",
    "    \n",
    "    return sigma1Psi_U\n",
    "\n",
    "def sigma2Psi(Psi_U):\n",
    "    sigma2Psi_U = stvarrank1('sigma1Psi_U', dim = 2)\n",
    "    \n",
    "    sigma2Psi_U_tmp = gamma_2*sp.Matrix([Psi_U.isymb[0], Psi_U.isymb[1]])\n",
    "    \n",
    "    sigma2Psi_U.isymb[0] = sigma2Psi_U_tmp[0]\n",
    "    sigma2Psi_U.isymb[1] = sigma2Psi_U_tmp[1]\n",
    "    \n",
    "    return sigma1Psi_U\n",
    "\n",
    "def sigma3Psi(Psi_U):\n",
    "    sigma3Psi_U = stvarrank1('sigma1Psi_U', dim = 2)\n",
    "    \n",
    "    sigma3Psi_U_tmp = gamma_3*sp.Matrix([Psi_U.isymb[0], Psi_U.isymb[1]])\n",
    "    \n",
    "    sigma3Psi_U.isymb[0] = sigma3Psi_U_tmp[0]\n",
    "    sigma3Psi_U.isymb[1] = sigma3Psi_U_tmp[1]\n",
    "    \n",
    "    return sigma3Psi_U"
   ]
  },
  {
   "cell_type": "code",
   "execution_count": 8,
   "id": "be4486af",
   "metadata": {},
   "outputs": [],
   "source": [
    "def MuDPsi(psi_U,u_U, r):\n",
    "    MuDpsi_U = stvarrank1('uDpsi_U', dim = 2)\n",
    "    \n",
    "    conjugateu_U = stvarrank1('conju_U', dim = 2)\n",
    "    conjugateu_U.isymb[0] = sp.conjugate(u_U.isymb[0])\n",
    "    conjugateu_U.isymb[1] = sp.conjugate(u_U.isymb[1])\n",
    "    \n",
    "    psi_U_tmp = sp.Matrix([psi_U.isymb[0], psi_U.isymb[1]])\n",
    "    \n",
    "    M1 = sp.eye(2)*r - gamma_1\n",
    "    M2 = sp.eye(2)*r - gamma_2\n",
    "    \n",
    "    Mm1 = sp.eye(2)*r + gamma_1\n",
    "    Mm2 = sp.eye(2)*r + gamma_2\n",
    "    \n",
    "    M1psi_U = M1*psi_U_tmp\n",
    "    M2psi_U = M2*psi_U_tmp\n",
    "    \n",
    "    Mm1psi_U = Mm1*psi_U_tmp\n",
    "    Mm2psi_U = Mm2*psi_U_tmp\n",
    "    \n",
    "    MuDpsi_U.isymb[0] = u_U.isymb[0]*shift(M1psi_U[0],[1,0,0,0])+u_U.isymb[1]*shift(M2psi_U[0],[0,1,0,0])\n",
    "    MuDpsi_U.isymb[1] = u_U.isymb[0]*shift(M1psi_U[1],[1,0,0,0])+u_U.isymb[1]*shift(M2psi_U[1],[0,1,0,0])\n",
    "    \n",
    "    MuDpsi_U.isymb[0] += shift(conjugateu_U.isymb[0],[-1,0,0,0])*shift(Mm1psi_U[0],[-1,0,0,0])+shift(conjugateu_U.isymb[1],[0,-1,0,0])*shift(Mm2psi_U[0],[0,-1,0,0])\n",
    "    MuDpsi_U.isymb[1] += shift(conjugateu_U.isymb[0],[-1,0,0,0])*shift(Mm1psi_U[1],[-1,0,0,0])+shift(conjugateu_U.isymb[1],[0,-1,0,0])*shift(Mm2psi_U[1],[0,-1,0,0])\n",
    "    \n",
    "    return MuDpsi_U"
   ]
  },
  {
   "cell_type": "code",
   "execution_count": 9,
   "id": "b6bac3c2",
   "metadata": {},
   "outputs": [],
   "source": [
    "r = sp.symbols('r', real = True)"
   ]
  },
  {
   "cell_type": "code",
   "execution_count": 10,
   "id": "7689b8eb",
   "metadata": {},
   "outputs": [],
   "source": [
    "MuDPsi_U = MuDPsi(p_U,u_U,r)"
   ]
  },
  {
   "cell_type": "code",
   "execution_count": 11,
   "id": "d368bd08",
   "metadata": {},
   "outputs": [],
   "source": [
    "def OpPsi(Psi_U, u_U, m, r):\n",
    "    OpPsi_U = stvarrank1('OpPsi_U', dim = 2)\n",
    "    \n",
    "    OpPsi_U.isymb[0] = (m+2)*Psi_U.isymb[0]\n",
    "    OpPsi_U.isymb[1] = (m+2)*Psi_U.isymb[1]\n",
    "    \n",
    "    MuDPsi_U = MuDPsi(Psi_U, u_U, r)\n",
    "    \n",
    "    OpPsi_U.isymb[0] += MuDPsi_U.isymb[0]\n",
    "    OpPsi_U.isymb[1] += MuDPsi_U.isymb[1]\n",
    "    \n",
    "    OpPsi_U.isymb[0] = sp.simplify(OpPsi_U.isymb[0])\n",
    "    OpPsi_U.isymb[1] = sp.simplify(OpPsi_U.isymb[1])\n",
    "    \n",
    "    \n",
    "    return OpPsi_U\n",
    "    \n",
    "    "
   ]
  },
  {
   "cell_type": "code",
   "execution_count": 12,
   "id": "6f96a9dd",
   "metadata": {},
   "outputs": [],
   "source": [
    "m = sp.symbols('m', real = True)"
   ]
  },
  {
   "cell_type": "code",
   "execution_count": 13,
   "id": "9ffa83f3",
   "metadata": {},
   "outputs": [],
   "source": [
    "OpPsi_U = OpPsi(p_U, u_U, m, r)"
   ]
  },
  {
   "cell_type": "code",
   "execution_count": null,
   "id": "83213d03",
   "metadata": {},
   "outputs": [],
   "source": []
  },
  {
   "cell_type": "code",
   "execution_count": 14,
   "id": "14d6956d",
   "metadata": {
    "scrolled": true
   },
   "outputs": [
    {
     "name": "stdout",
     "output_type": "stream",
     "text": [
      "-r*state_fab[i + 1, j, k, state_fabp0i]*state_fab[i, j, k, state_fabu0i] + r*state_fab[i + 1, j, k, state_fabp0r]*state_fab[i, j, k, state_fabu0r] + r*state_fab[i - 1, j, k, state_fabp0i]*state_fab[i - 1, j, k, state_fabu0i] + r*state_fab[i - 1, j, k, state_fabp0r]*state_fab[i - 1, j, k, state_fabu0r] - r*state_fab[i, j + 1, k, state_fabp0i]*state_fab[i, j, k, state_fabu0i] + r*state_fab[i, j + 1, k, state_fabp0r]*state_fab[i, j, k, state_fabu0r] + r*state_fab[i, j - 1, k, state_fabp0i]*state_fab[i, j - 1, k, state_fabu0i] + r*state_fab[i, j - 1, k, state_fabp0r]*state_fab[i, j - 1, k, state_fabu0r] + (m + 2)*state_fab[i, j, k, state_fabp0r] + state_fab[i + 1, j, k, state_fabp1i]*state_fab[i, j, k, state_fabu0i] - state_fab[i + 1, j, k, state_fabp1r]*state_fab[i, j, k, state_fabu0r] + state_fab[i - 1, j, k, state_fabp1i]*state_fab[i - 1, j, k, state_fabu0i] + state_fab[i - 1, j, k, state_fabp1r]*state_fab[i - 1, j, k, state_fabu0r] - state_fab[i, j + 1, k, state_fabp1i]*state_fab[i, j, k, state_fabu0r] - state_fab[i, j + 1, k, state_fabp1r]*state_fab[i, j, k, state_fabu0i] + state_fab[i, j - 1, k, state_fabp1i]*state_fab[i, j - 1, k, state_fabu0r] - state_fab[i, j - 1, k, state_fabp1r]*state_fab[i, j - 1, k, state_fabu0i]\n"
     ]
    }
   ],
   "source": [
    "print(sp.re(OpPsi_U.isymb[0]))"
   ]
  },
  {
   "cell_type": "code",
   "execution_count": 15,
   "id": "76fb8d5b",
   "metadata": {},
   "outputs": [],
   "source": [
    "MuDPsi_U = MuDPsi(p_U,u_U,r)"
   ]
  },
  {
   "cell_type": "code",
   "execution_count": null,
   "id": "8d88ba98",
   "metadata": {},
   "outputs": [],
   "source": []
  },
  {
   "cell_type": "code",
   "execution_count": 16,
   "id": "4fced8ed",
   "metadata": {
    "scrolled": true
   },
   "outputs": [
    {
     "name": "stdout",
     "output_type": "stream",
     "text": [
      "-r*state_fab[i + 1, j, k, state_fabp0i]*state_fab[i, j, k, state_fabu0i] + r*state_fab[i + 1, j, k, state_fabp0r]*state_fab[i, j, k, state_fabu0r] + r*state_fab[i - 1, j, k, state_fabp0i]*state_fab[i - 1, j, k, state_fabu0i] + r*state_fab[i - 1, j, k, state_fabp0r]*state_fab[i - 1, j, k, state_fabu0r] - r*state_fab[i, j + 1, k, state_fabp0i]*state_fab[i, j, k, state_fabu0i] + r*state_fab[i, j + 1, k, state_fabp0r]*state_fab[i, j, k, state_fabu0r] + r*state_fab[i, j - 1, k, state_fabp0i]*state_fab[i, j - 1, k, state_fabu0i] + r*state_fab[i, j - 1, k, state_fabp0r]*state_fab[i, j - 1, k, state_fabu0r] + state_fab[i + 1, j, k, state_fabp1i]*state_fab[i, j, k, state_fabu0i] - state_fab[i + 1, j, k, state_fabp1r]*state_fab[i, j, k, state_fabu0r] + state_fab[i - 1, j, k, state_fabp1i]*state_fab[i - 1, j, k, state_fabu0i] + state_fab[i - 1, j, k, state_fabp1r]*state_fab[i - 1, j, k, state_fabu0r] - state_fab[i, j + 1, k, state_fabp1i]*state_fab[i, j, k, state_fabu0r] - state_fab[i, j + 1, k, state_fabp1r]*state_fab[i, j, k, state_fabu0i] + state_fab[i, j - 1, k, state_fabp1i]*state_fab[i, j - 1, k, state_fabu0r] - state_fab[i, j - 1, k, state_fabp1r]*state_fab[i, j - 1, k, state_fabu0i]\n"
     ]
    }
   ],
   "source": [
    "print(sp.re(MuDPsi_U.isymb[0]))"
   ]
  },
  {
   "cell_type": "code",
   "execution_count": 17,
   "id": "f512ea3a",
   "metadata": {},
   "outputs": [],
   "source": [
    "OpOpPsi_U = OpPsi(OpPsi(p_U,u_U,m,r), u_U,m,r)"
   ]
  },
  {
   "cell_type": "code",
   "execution_count": 26,
   "id": "77299245",
   "metadata": {},
   "outputs": [],
   "source": [
    "OpOpPsiReal_U = stvarrank1('OpOpPsiReal_U', isreal = True, dim = 2)\n",
    "OpOpPsiReal_U.isymb[0] = sp.re(OpOpPsi_U.isymb[0])\n",
    "OpOpPsiReal_U.isymb[1] = sp.re(OpOpPsi_U.isymb[1])\n",
    "\n",
    "OpOpPsiImaginary_U = stvarrank1('OpOpPsiImaginary_U', isreal = True, dim = 2)\n",
    "OpOpPsiImaginary_U.isymb[0] = sp.im(OpOpPsi_U.isymb[0])\n",
    "OpOpPsiImaginary_U.isymb[1] = sp.im(OpOpPsi_U.isymb[1])"
   ]
  },
  {
   "cell_type": "code",
   "execution_count": 27,
   "id": "7af3ed7a",
   "metadata": {},
   "outputs": [
    {
     "name": "stdout",
     "output_type": "stream",
     "text": [
      "        amrex::Real OpOpPsiReal_U_0 = -r*(r*state_fab(i + 1, j + 1, k, Idx::p0i)*state_fab(i + 1, j, k, Idx::u0i) - r*state_fab(i + 1, j + 1, k, Idx::p0r)*state_fab(i + 1, j, k, Idx::u0r) - r*state_fab(i + 1, j - 1, k, Idx::p0i)*state_fab(i + 1, j - 1, k, Idx::u0i) - r*state_fab(i + 1, j - 1, k, Idx::p0r)*state_fab(i + 1, j - 1, k, Idx::u0r) + r*state_fab(i + 1, j, k, Idx::u0i)*state_fab(i + 2, j, k, Idx::p0i) - r*state_fab(i + 1, j, k, Idx::u0r)*state_fab(i + 2, j, k, Idx::p0r) - r*state_fab(i, j, k, Idx::p0i)*state_fab(i, j, k, Idx::u0i) - r*state_fab(i, j, k, Idx::p0r)*state_fab(i, j, k, Idx::u0r) + (-m - 2)*state_fab(i + 1, j, k, Idx::p0r) + state_fab(i + 1, j + 1, k, Idx::p1i)*state_fab(i + 1, j, k, Idx::u0r) + state_fab(i + 1, j + 1, k, Idx::p1r)*state_fab(i + 1, j, k, Idx::u0i) - state_fab(i + 1, j - 1, k, Idx::p1i)*state_fab(i + 1, j - 1, k, Idx::u0r) + state_fab(i + 1, j - 1, k, Idx::p1r)*state_fab(i + 1, j - 1, k, Idx::u0i) - state_fab(i + 1, j, k, Idx::u0i)*state_fab(i + 2, j, k, Idx::p1i) + state_fab(i + 1, j, k, Idx::u0r)*state_fab(i + 2, j, k, Idx::p1r) - state_fab(i, j, k, Idx::p1i)*state_fab(i, j, k, Idx::u0i) - state_fab(i, j, k, Idx::p1r)*state_fab(i, j, k, Idx::u0r))*state_fab(i, j, k, Idx::u0r) + r*(-r*state_fab(i + 1, j + 1, k, Idx::p0i)*state_fab(i + 1, j, k, Idx::u0r) - r*state_fab(i + 1, j + 1, k, Idx::p0r)*state_fab(i + 1, j, k, Idx::u0i) - r*state_fab(i + 1, j - 1, k, Idx::p0i)*state_fab(i + 1, j - 1, k, Idx::u0r) + r*state_fab(i + 1, j - 1, k, Idx::p0r)*state_fab(i + 1, j - 1, k, Idx::u0i) - r*state_fab(i + 1, j, k, Idx::u0i)*state_fab(i + 2, j, k, Idx::p0r) - r*state_fab(i + 1, j, k, Idx::u0r)*state_fab(i + 2, j, k, Idx::p0i) - r*state_fab(i, j, k, Idx::p0i)*state_fab(i, j, k, Idx::u0r) + r*state_fab(i, j, k, Idx::p0r)*state_fab(i, j, k, Idx::u0i) + (-m - 2)*state_fab(i + 1, j, k, Idx::p0i) + state_fab(i + 1, j + 1, k, Idx::p1i)*state_fab(i + 1, j, k, Idx::u0i) - state_fab(i + 1, j + 1, k, Idx::p1r)*state_fab(i + 1, j, k, Idx::u0r) + state_fab(i + 1, j - 1, k, Idx::p1i)*state_fab(i + 1, j - 1, k, Idx::u0i) + state_fab(i + 1, j - 1, k, Idx::p1r)*state_fab(i + 1, j - 1, k, Idx::u0r) + state_fab(i + 1, j, k, Idx::u0i)*state_fab(i + 2, j, k, Idx::p1r) + state_fab(i + 1, j, k, Idx::u0r)*state_fab(i + 2, j, k, Idx::p1i) - state_fab(i, j, k, Idx::p1i)*state_fab(i, j, k, Idx::u0r) + state_fab(i, j, k, Idx::p1r)*state_fab(i, j, k, Idx::u0i))*state_fab(i, j, k, Idx::u0i) - r*(r*state_fab(i + 1, j + 1, k, Idx::p0i)*state_fab(i, j + 1, k, Idx::u0i) - r*state_fab(i + 1, j + 1, k, Idx::p0r)*state_fab(i, j + 1, k, Idx::u0r) - r*state_fab(i - 1, j + 1, k, Idx::p0i)*state_fab(i - 1, j + 1, k, Idx::u0i) - r*state_fab(i - 1, j + 1, k, Idx::p0r)*state_fab(i - 1, j + 1, k, Idx::u0r) + r*state_fab(i, j + 1, k, Idx::u0i)*state_fab(i, j + 2, k, Idx::p0i) - r*state_fab(i, j + 1, k, Idx::u0r)*state_fab(i, j + 2, k, Idx::p0r) - r*state_fab(i, j, k, Idx::p0i)*state_fab(i, j, k, Idx::u0i) - r*state_fab(i, j, k, Idx::p0r)*state_fab(i, j, k, Idx::u0r) + (-m - 2)*state_fab(i, j + 1, k, Idx::p0r) - state_fab(i + 1, j + 1, k, Idx::p1i)*state_fab(i, j + 1, k, Idx::u0i) + state_fab(i + 1, j + 1, k, Idx::p1r)*state_fab(i, j + 1, k, Idx::u0r) - state_fab(i - 1, j + 1, k, Idx::p1i)*state_fab(i - 1, j + 1, k, Idx::u0i) - state_fab(i - 1, j + 1, k, Idx::p1r)*state_fab(i - 1, j + 1, k, Idx::u0r) + state_fab(i, j + 1, k, Idx::u0i)*state_fab(i, j + 2, k, Idx::p1r) + state_fab(i, j + 1, k, Idx::u0r)*state_fab(i, j + 2, k, Idx::p1i) - state_fab(i, j, k, Idx::p1i)*state_fab(i, j, k, Idx::u0r) + state_fab(i, j, k, Idx::p1r)*state_fab(i, j, k, Idx::u0i))*state_fab(i, j, k, Idx::u0r) + r*(-r*state_fab(i + 1, j + 1, k, Idx::p0i)*state_fab(i, j + 1, k, Idx::u0r) - r*state_fab(i + 1, j + 1, k, Idx::p0r)*state_fab(i, j + 1, k, Idx::u0i) - r*state_fab(i - 1, j + 1, k, Idx::p0i)*state_fab(i - 1, j + 1, k, Idx::u0r) + r*state_fab(i - 1, j + 1, k, Idx::p0r)*state_fab(i - 1, j + 1, k, Idx::u0i) - r*state_fab(i, j + 1, k, Idx::u0i)*state_fab(i, j + 2, k, Idx::p0r) - r*state_fab(i, j + 1, k, Idx::u0r)*state_fab(i, j + 2, k, Idx::p0i) - r*state_fab(i, j, k, Idx::p0i)*state_fab(i, j, k, Idx::u0r) + r*state_fab(i, j, k, Idx::p0r)*state_fab(i, j, k, Idx::u0i) + (-m - 2)*state_fab(i, j + 1, k, Idx::p0i) + state_fab(i + 1, j + 1, k, Idx::p1i)*state_fab(i, j + 1, k, Idx::u0r) + state_fab(i + 1, j + 1, k, Idx::p1r)*state_fab(i, j + 1, k, Idx::u0i) - state_fab(i - 1, j + 1, k, Idx::p1i)*state_fab(i - 1, j + 1, k, Idx::u0r) + state_fab(i - 1, j + 1, k, Idx::p1r)*state_fab(i - 1, j + 1, k, Idx::u0i) + state_fab(i, j + 1, k, Idx::u0i)*state_fab(i, j + 2, k, Idx::p1i) - state_fab(i, j + 1, k, Idx::u0r)*state_fab(i, j + 2, k, Idx::p1r) + state_fab(i, j, k, Idx::p1i)*state_fab(i, j, k, Idx::u0i) + state_fab(i, j, k, Idx::p1r)*state_fab(i, j, k, Idx::u0r))*state_fab(i, j, k, Idx::u0i) - r*(r*state_fab(i + 1, j - 1, k, Idx::p0i)*state_fab(i, j - 1, k, Idx::u0i) - r*state_fab(i + 1, j - 1, k, Idx::p0r)*state_fab(i, j - 1, k, Idx::u0r) - r*state_fab(i - 1, j - 1, k, Idx::p0i)*state_fab(i - 1, j - 1, k, Idx::u0i) - r*state_fab(i - 1, j - 1, k, Idx::p0r)*state_fab(i - 1, j - 1, k, Idx::u0r) + r*state_fab(i, j - 1, k, Idx::u0i)*state_fab(i, j, k, Idx::p0i) - r*state_fab(i, j - 1, k, Idx::u0r)*state_fab(i, j, k, Idx::p0r) - r*state_fab(i, j - 2, k, Idx::p0i)*state_fab(i, j - 2, k, Idx::u0i) - r*state_fab(i, j - 2, k, Idx::p0r)*state_fab(i, j - 2, k, Idx::u0r) + (-m - 2)*state_fab(i, j - 1, k, Idx::p0r) - state_fab(i + 1, j - 1, k, Idx::p1i)*state_fab(i, j - 1, k, Idx::u0i) + state_fab(i + 1, j - 1, k, Idx::p1r)*state_fab(i, j - 1, k, Idx::u0r) - state_fab(i - 1, j - 1, k, Idx::p1i)*state_fab(i - 1, j - 1, k, Idx::u0i) - state_fab(i - 1, j - 1, k, Idx::p1r)*state_fab(i - 1, j - 1, k, Idx::u0r) + state_fab(i, j - 1, k, Idx::u0i)*state_fab(i, j, k, Idx::p1r) + state_fab(i, j - 1, k, Idx::u0r)*state_fab(i, j, k, Idx::p1i) - state_fab(i, j - 2, k, Idx::p1i)*state_fab(i, j - 2, k, Idx::u0r) + state_fab(i, j - 2, k, Idx::p1r)*state_fab(i, j - 2, k, Idx::u0i))*state_fab(i, j - 1, k, Idx::u0r) - r*(-r*state_fab(i + 1, j - 1, k, Idx::p0i)*state_fab(i, j - 1, k, Idx::u0r) - r*state_fab(i + 1, j - 1, k, Idx::p0r)*state_fab(i, j - 1, k, Idx::u0i) - r*state_fab(i - 1, j - 1, k, Idx::p0i)*state_fab(i - 1, j - 1, k, Idx::u0r) + r*state_fab(i - 1, j - 1, k, Idx::p0r)*state_fab(i - 1, j - 1, k, Idx::u0i) - r*state_fab(i, j - 1, k, Idx::u0i)*state_fab(i, j, k, Idx::p0r) - r*state_fab(i, j - 1, k, Idx::u0r)*state_fab(i, j, k, Idx::p0i) - r*state_fab(i, j - 2, k, Idx::p0i)*state_fab(i, j - 2, k, Idx::u0r) + r*state_fab(i, j - 2, k, Idx::p0r)*state_fab(i, j - 2, k, Idx::u0i) + (-m - 2)*state_fab(i, j - 1, k, Idx::p0i) + state_fab(i + 1, j - 1, k, Idx::p1i)*state_fab(i, j - 1, k, Idx::u0r) + state_fab(i + 1, j - 1, k, Idx::p1r)*state_fab(i, j - 1, k, Idx::u0i) - state_fab(i - 1, j - 1, k, Idx::p1i)*state_fab(i - 1, j - 1, k, Idx::u0r) + state_fab(i - 1, j - 1, k, Idx::p1r)*state_fab(i - 1, j - 1, k, Idx::u0i) + state_fab(i, j - 1, k, Idx::u0i)*state_fab(i, j, k, Idx::p1i) - state_fab(i, j - 1, k, Idx::u0r)*state_fab(i, j, k, Idx::p1r) + state_fab(i, j - 2, k, Idx::p1i)*state_fab(i, j - 2, k, Idx::u0i) + state_fab(i, j - 2, k, Idx::p1r)*state_fab(i, j - 2, k, Idx::u0r))*state_fab(i, j - 1, k, Idx::u0i) - r*(r*state_fab(i - 1, j + 1, k, Idx::p0i)*state_fab(i - 1, j, k, Idx::u0i) - r*state_fab(i - 1, j + 1, k, Idx::p0r)*state_fab(i - 1, j, k, Idx::u0r) - r*state_fab(i - 1, j - 1, k, Idx::p0i)*state_fab(i - 1, j - 1, k, Idx::u0i) - r*state_fab(i - 1, j - 1, k, Idx::p0r)*state_fab(i - 1, j - 1, k, Idx::u0r) + r*state_fab(i - 1, j, k, Idx::u0i)*state_fab(i, j, k, Idx::p0i) - r*state_fab(i - 1, j, k, Idx::u0r)*state_fab(i, j, k, Idx::p0r) - r*state_fab(i - 2, j, k, Idx::p0i)*state_fab(i - 2, j, k, Idx::u0i) - r*state_fab(i - 2, j, k, Idx::p0r)*state_fab(i - 2, j, k, Idx::u0r) + (-m - 2)*state_fab(i - 1, j, k, Idx::p0r) + state_fab(i - 1, j + 1, k, Idx::p1i)*state_fab(i - 1, j, k, Idx::u0r) + state_fab(i - 1, j + 1, k, Idx::p1r)*state_fab(i - 1, j, k, Idx::u0i) - state_fab(i - 1, j - 1, k, Idx::p1i)*state_fab(i - 1, j - 1, k, Idx::u0r) + state_fab(i - 1, j - 1, k, Idx::p1r)*state_fab(i - 1, j - 1, k, Idx::u0i) - state_fab(i - 1, j, k, Idx::u0i)*state_fab(i, j, k, Idx::p1i) + state_fab(i - 1, j, k, Idx::u0r)*state_fab(i, j, k, Idx::p1r) - state_fab(i - 2, j, k, Idx::p1i)*state_fab(i - 2, j, k, Idx::u0i) - state_fab(i - 2, j, k, Idx::p1r)*state_fab(i - 2, j, k, Idx::u0r))*state_fab(i - 1, j, k, Idx::u0r) - r*(-r*state_fab(i - 1, j + 1, k, Idx::p0i)*state_fab(i - 1, j, k, Idx::u0r) - r*state_fab(i - 1, j + 1, k, Idx::p0r)*state_fab(i - 1, j, k, Idx::u0i) - r*state_fab(i - 1, j - 1, k, Idx::p0i)*state_fab(i - 1, j - 1, k, Idx::u0r) + r*state_fab(i - 1, j - 1, k, Idx::p0r)*state_fab(i - 1, j - 1, k, Idx::u0i) - r*state_fab(i - 1, j, k, Idx::u0i)*state_fab(i, j, k, Idx::p0r) - r*state_fab(i - 1, j, k, Idx::u0r)*state_fab(i, j, k, Idx::p0i) - r*state_fab(i - 2, j, k, Idx::p0i)*state_fab(i - 2, j, k, Idx::u0r) + r*state_fab(i - 2, j, k, Idx::p0r)*state_fab(i - 2, j, k, Idx::u0i) + (-m - 2)*state_fab(i - 1, j, k, Idx::p0i) + state_fab(i - 1, j + 1, k, Idx::p1i)*state_fab(i - 1, j, k, Idx::u0i) - state_fab(i - 1, j + 1, k, Idx::p1r)*state_fab(i - 1, j, k, Idx::u0r) + state_fab(i - 1, j - 1, k, Idx::p1i)*state_fab(i - 1, j - 1, k, Idx::u0i) + state_fab(i - 1, j - 1, k, Idx::p1r)*state_fab(i - 1, j - 1, k, Idx::u0r) + state_fab(i - 1, j, k, Idx::u0i)*state_fab(i, j, k, Idx::p1r) + state_fab(i - 1, j, k, Idx::u0r)*state_fab(i, j, k, Idx::p1i) - state_fab(i - 2, j, k, Idx::p1i)*state_fab(i - 2, j, k, Idx::u0r) + state_fab(i - 2, j, k, Idx::p1r)*state_fab(i - 2, j, k, Idx::u0i))*state_fab(i - 1, j, k, Idx::u0i) + (-m - 2)*(r*state_fab(i + 1, j, k, Idx::p0i)*state_fab(i, j, k, Idx::u0i) - r*state_fab(i + 1, j, k, Idx::p0r)*state_fab(i, j, k, Idx::u0r) - r*state_fab(i - 1, j, k, Idx::p0i)*state_fab(i - 1, j, k, Idx::u0i) - r*state_fab(i - 1, j, k, Idx::p0r)*state_fab(i - 1, j, k, Idx::u0r) + r*state_fab(i, j + 1, k, Idx::p0i)*state_fab(i, j, k, Idx::u0i) - r*state_fab(i, j + 1, k, Idx::p0r)*state_fab(i, j, k, Idx::u0r) - r*state_fab(i, j - 1, k, Idx::p0i)*state_fab(i, j - 1, k, Idx::u0i) - r*state_fab(i, j - 1, k, Idx::p0r)*state_fab(i, j - 1, k, Idx::u0r) + (-m - 2)*state_fab(i, j, k, Idx::p0r) - state_fab(i + 1, j, k, Idx::p1i)*state_fab(i, j, k, Idx::u0i) + state_fab(i + 1, j, k, Idx::p1r)*state_fab(i, j, k, Idx::u0r) - state_fab(i - 1, j, k, Idx::p1i)*state_fab(i - 1, j, k, Idx::u0i) - state_fab(i - 1, j, k, Idx::p1r)*state_fab(i - 1, j, k, Idx::u0r) + state_fab(i, j + 1, k, Idx::p1i)*state_fab(i, j, k, Idx::u0r) + state_fab(i, j + 1, k, Idx::p1r)*state_fab(i, j, k, Idx::u0i) - state_fab(i, j - 1, k, Idx::p1i)*state_fab(i, j - 1, k, Idx::u0r) + state_fab(i, j - 1, k, Idx::p1r)*state_fab(i, j - 1, k, Idx::u0i)) + (m + 2)*state_fab(i + 1, j, k, Idx::p1i)*state_fab(i, j, k, Idx::u0i) - (m + 2)*state_fab(i + 1, j, k, Idx::p1r)*state_fab(i, j, k, Idx::u0r) + (m + 2)*state_fab(i - 1, j, k, Idx::p1i)*state_fab(i - 1, j, k, Idx::u0i) + (m + 2)*state_fab(i - 1, j, k, Idx::p1r)*state_fab(i - 1, j, k, Idx::u0r) - (-r*state_fab(i + 1, j + 1, k, Idx::p1i)*state_fab(i + 1, j, k, Idx::u0i) + r*state_fab(i + 1, j + 1, k, Idx::p1r)*state_fab(i + 1, j, k, Idx::u0r) + state_fab(i + 1, j + 1, k, Idx::p0i)*state_fab(i + 1, j, k, Idx::u0r) + state_fab(i + 1, j + 1, k, Idx::p0r)*state_fab(i + 1, j, k, Idx::u0i))*state_fab(i, j, k, Idx::u0r) + (r*state_fab(i + 1, j + 1, k, Idx::p1i)*state_fab(i + 1, j, k, Idx::u0r) + r*state_fab(i + 1, j + 1, k, Idx::p1r)*state_fab(i + 1, j, k, Idx::u0i) + state_fab(i + 1, j + 1, k, Idx::p0i)*state_fab(i + 1, j, k, Idx::u0i) - state_fab(i + 1, j + 1, k, Idx::p0r)*state_fab(i + 1, j, k, Idx::u0r))*state_fab(i, j, k, Idx::u0i) + (-r*state_fab(i + 1, j - 1, k, Idx::p1i)*state_fab(i + 1, j - 1, k, Idx::u0i) - r*state_fab(i + 1, j - 1, k, Idx::p1r)*state_fab(i + 1, j - 1, k, Idx::u0r) + state_fab(i + 1, j - 1, k, Idx::p0i)*state_fab(i + 1, j - 1, k, Idx::u0r) - state_fab(i + 1, j - 1, k, Idx::p0r)*state_fab(i + 1, j - 1, k, Idx::u0i))*state_fab(i, j, k, Idx::u0r) - (-r*state_fab(i + 1, j - 1, k, Idx::p1i)*state_fab(i + 1, j - 1, k, Idx::u0r) + r*state_fab(i + 1, j - 1, k, Idx::p1r)*state_fab(i + 1, j - 1, k, Idx::u0i) - state_fab(i + 1, j - 1, k, Idx::p0i)*state_fab(i + 1, j - 1, k, Idx::u0i) - state_fab(i + 1, j - 1, k, Idx::p0r)*state_fab(i + 1, j - 1, k, Idx::u0r))*state_fab(i, j, k, Idx::u0i) + (r*state_fab(i + 1, j, k, Idx::u0i)*state_fab(i + 2, j, k, Idx::p1i) - r*state_fab(i + 1, j, k, Idx::u0r)*state_fab(i + 2, j, k, Idx::p1r) - state_fab(i + 1, j, k, Idx::u0i)*state_fab(i + 2, j, k, Idx::p0i) + state_fab(i + 1, j, k, Idx::u0r)*state_fab(i + 2, j, k, Idx::p0r))*state_fab(i, j, k, Idx::u0r) - (-r*state_fab(i + 1, j, k, Idx::u0i)*state_fab(i + 2, j, k, Idx::p1r) - r*state_fab(i + 1, j, k, Idx::u0r)*state_fab(i + 2, j, k, Idx::p1i) + state_fab(i + 1, j, k, Idx::u0i)*state_fab(i + 2, j, k, Idx::p0r) + state_fab(i + 1, j, k, Idx::u0r)*state_fab(i + 2, j, k, Idx::p0i))*state_fab(i, j, k, Idx::u0i) + (-r*state_fab(i - 1, j + 1, k, Idx::p1i)*state_fab(i - 1, j, k, Idx::u0i) + r*state_fab(i - 1, j + 1, k, Idx::p1r)*state_fab(i - 1, j, k, Idx::u0r) + state_fab(i - 1, j + 1, k, Idx::p0i)*state_fab(i - 1, j, k, Idx::u0r) + state_fab(i - 1, j + 1, k, Idx::p0r)*state_fab(i - 1, j, k, Idx::u0i))*state_fab(i - 1, j, k, Idx::u0r) + (r*state_fab(i - 1, j + 1, k, Idx::p1i)*state_fab(i - 1, j, k, Idx::u0r) + r*state_fab(i - 1, j + 1, k, Idx::p1r)*state_fab(i - 1, j, k, Idx::u0i) + state_fab(i - 1, j + 1, k, Idx::p0i)*state_fab(i - 1, j, k, Idx::u0i) - state_fab(i - 1, j + 1, k, Idx::p0r)*state_fab(i - 1, j, k, Idx::u0r))*state_fab(i - 1, j, k, Idx::u0i) - (-r*state_fab(i - 1, j - 1, k, Idx::p1i)*state_fab(i - 1, j - 1, k, Idx::u0i) - r*state_fab(i - 1, j - 1, k, Idx::p1r)*state_fab(i - 1, j - 1, k, Idx::u0r) + state_fab(i - 1, j - 1, k, Idx::p0i)*state_fab(i - 1, j - 1, k, Idx::u0r) - state_fab(i - 1, j - 1, k, Idx::p0r)*state_fab(i - 1, j - 1, k, Idx::u0i))*state_fab(i - 1, j, k, Idx::u0r) - (-r*state_fab(i - 1, j - 1, k, Idx::p1i)*state_fab(i - 1, j - 1, k, Idx::u0r) + r*state_fab(i - 1, j - 1, k, Idx::p1r)*state_fab(i - 1, j - 1, k, Idx::u0i) - state_fab(i - 1, j - 1, k, Idx::p0i)*state_fab(i - 1, j - 1, k, Idx::u0i) - state_fab(i - 1, j - 1, k, Idx::p0r)*state_fab(i - 1, j - 1, k, Idx::u0r))*state_fab(i - 1, j, k, Idx::u0i) - (r*state_fab(i - 1, j, k, Idx::u0i)*state_fab(i, j, k, Idx::p1i) - r*state_fab(i - 1, j, k, Idx::u0r)*state_fab(i, j, k, Idx::p1r) - state_fab(i - 1, j, k, Idx::u0i)*state_fab(i, j, k, Idx::p0i) + state_fab(i - 1, j, k, Idx::u0r)*state_fab(i, j, k, Idx::p0r))*state_fab(i - 1, j, k, Idx::u0r) - (-r*state_fab(i - 1, j, k, Idx::u0i)*state_fab(i, j, k, Idx::p1r) - r*state_fab(i - 1, j, k, Idx::u0r)*state_fab(i, j, k, Idx::p1i) + state_fab(i - 1, j, k, Idx::u0i)*state_fab(i, j, k, Idx::p0r) + state_fab(i - 1, j, k, Idx::u0r)*state_fab(i, j, k, Idx::p0i))*state_fab(i - 1, j, k, Idx::u0i) - (-r*state_fab(i - 2, j, k, Idx::p1i)*state_fab(i - 2, j, k, Idx::u0i) - r*state_fab(i - 2, j, k, Idx::p1r)*state_fab(i - 2, j, k, Idx::u0r) - state_fab(i - 2, j, k, Idx::p0i)*state_fab(i - 2, j, k, Idx::u0i) - state_fab(i - 2, j, k, Idx::p0r)*state_fab(i - 2, j, k, Idx::u0r))*state_fab(i - 1, j, k, Idx::u0r) - (-r*state_fab(i - 2, j, k, Idx::p1i)*state_fab(i - 2, j, k, Idx::u0r) + r*state_fab(i - 2, j, k, Idx::p1r)*state_fab(i - 2, j, k, Idx::u0i) - state_fab(i - 2, j, k, Idx::p0i)*state_fab(i - 2, j, k, Idx::u0r) + state_fab(i - 2, j, k, Idx::p0r)*state_fab(i - 2, j, k, Idx::u0i))*state_fab(i - 1, j, k, Idx::u0i) + (-r*state_fab(i, j, k, Idx::p1i)*state_fab(i, j, k, Idx::u0i) - r*state_fab(i, j, k, Idx::p1r)*state_fab(i, j, k, Idx::u0r) - state_fab(i, j, k, Idx::p0i)*state_fab(i, j, k, Idx::u0i) - state_fab(i, j, k, Idx::p0r)*state_fab(i, j, k, Idx::u0r))*state_fab(i, j, k, Idx::u0r) - (-r*state_fab(i, j, k, Idx::p1i)*state_fab(i, j, k, Idx::u0r) + r*state_fab(i, j, k, Idx::p1r)*state_fab(i, j, k, Idx::u0i) - state_fab(i, j, k, Idx::p0i)*state_fab(i, j, k, Idx::u0r) + state_fab(i, j, k, Idx::p0r)*state_fab(i, j, k, Idx::u0i))*state_fab(i, j, k, Idx::u0i) + (r*state_fab(i + 1, j + 1, k, Idx::p1i)*state_fab(i, j + 1, k, Idx::u0i) - r*state_fab(i + 1, j + 1, k, Idx::p1r)*state_fab(i, j + 1, k, Idx::u0r) - r*state_fab(i - 1, j + 1, k, Idx::p1i)*state_fab(i - 1, j + 1, k, Idx::u0i) - r*state_fab(i - 1, j + 1, k, Idx::p1r)*state_fab(i - 1, j + 1, k, Idx::u0r) + r*state_fab(i, j + 1, k, Idx::u0i)*state_fab(i, j + 2, k, Idx::p1i) - r*state_fab(i, j + 1, k, Idx::u0r)*state_fab(i, j + 2, k, Idx::p1r) - r*state_fab(i, j, k, Idx::p1i)*state_fab(i, j, k, Idx::u0i) - r*state_fab(i, j, k, Idx::p1r)*state_fab(i, j, k, Idx::u0r) + (-m - 2)*state_fab(i, j + 1, k, Idx::p1r) - state_fab(i + 1, j + 1, k, Idx::p0i)*state_fab(i, j + 1, k, Idx::u0i) + state_fab(i + 1, j + 1, k, Idx::p0r)*state_fab(i, j + 1, k, Idx::u0r) - state_fab(i - 1, j + 1, k, Idx::p0i)*state_fab(i - 1, j + 1, k, Idx::u0i) - state_fab(i - 1, j + 1, k, Idx::p0r)*state_fab(i - 1, j + 1, k, Idx::u0r) - state_fab(i, j + 1, k, Idx::u0i)*state_fab(i, j + 2, k, Idx::p0r) - state_fab(i, j + 1, k, Idx::u0r)*state_fab(i, j + 2, k, Idx::p0i) + state_fab(i, j, k, Idx::p0i)*state_fab(i, j, k, Idx::u0r) - state_fab(i, j, k, Idx::p0r)*state_fab(i, j, k, Idx::u0i))*state_fab(i, j, k, Idx::u0i) + (-r*state_fab(i + 1, j + 1, k, Idx::p1i)*state_fab(i, j + 1, k, Idx::u0r) - r*state_fab(i + 1, j + 1, k, Idx::p1r)*state_fab(i, j + 1, k, Idx::u0i) - r*state_fab(i - 1, j + 1, k, Idx::p1i)*state_fab(i - 1, j + 1, k, Idx::u0r) + r*state_fab(i - 1, j + 1, k, Idx::p1r)*state_fab(i - 1, j + 1, k, Idx::u0i) - r*state_fab(i, j + 1, k, Idx::u0i)*state_fab(i, j + 2, k, Idx::p1r) - r*state_fab(i, j + 1, k, Idx::u0r)*state_fab(i, j + 2, k, Idx::p1i) - r*state_fab(i, j, k, Idx::p1i)*state_fab(i, j, k, Idx::u0r) + r*state_fab(i, j, k, Idx::p1r)*state_fab(i, j, k, Idx::u0i) + (-m - 2)*state_fab(i, j + 1, k, Idx::p1i) + state_fab(i + 1, j + 1, k, Idx::p0i)*state_fab(i, j + 1, k, Idx::u0r) + state_fab(i + 1, j + 1, k, Idx::p0r)*state_fab(i, j + 1, k, Idx::u0i) - state_fab(i - 1, j + 1, k, Idx::p0i)*state_fab(i - 1, j + 1, k, Idx::u0r) + state_fab(i - 1, j + 1, k, Idx::p0r)*state_fab(i - 1, j + 1, k, Idx::u0i) - state_fab(i, j + 1, k, Idx::u0i)*state_fab(i, j + 2, k, Idx::p0i) + state_fab(i, j + 1, k, Idx::u0r)*state_fab(i, j + 2, k, Idx::p0r) - state_fab(i, j, k, Idx::p0i)*state_fab(i, j, k, Idx::u0i) - state_fab(i, j, k, Idx::p0r)*state_fab(i, j, k, Idx::u0r))*state_fab(i, j, k, Idx::u0r) + (r*state_fab(i + 1, j - 1, k, Idx::p1i)*state_fab(i, j - 1, k, Idx::u0i) - r*state_fab(i + 1, j - 1, k, Idx::p1r)*state_fab(i, j - 1, k, Idx::u0r) - r*state_fab(i - 1, j - 1, k, Idx::p1i)*state_fab(i - 1, j - 1, k, Idx::u0i) - r*state_fab(i - 1, j - 1, k, Idx::p1r)*state_fab(i - 1, j - 1, k, Idx::u0r) + r*state_fab(i, j - 1, k, Idx::u0i)*state_fab(i, j, k, Idx::p1i) - r*state_fab(i, j - 1, k, Idx::u0r)*state_fab(i, j, k, Idx::p1r) - r*state_fab(i, j - 2, k, Idx::p1i)*state_fab(i, j - 2, k, Idx::u0i) - r*state_fab(i, j - 2, k, Idx::p1r)*state_fab(i, j - 2, k, Idx::u0r) + (-m - 2)*state_fab(i, j - 1, k, Idx::p1r) - state_fab(i + 1, j - 1, k, Idx::p0i)*state_fab(i, j - 1, k, Idx::u0i) + state_fab(i + 1, j - 1, k, Idx::p0r)*state_fab(i, j - 1, k, Idx::u0r) - state_fab(i - 1, j - 1, k, Idx::p0i)*state_fab(i - 1, j - 1, k, Idx::u0i) - state_fab(i - 1, j - 1, k, Idx::p0r)*state_fab(i - 1, j - 1, k, Idx::u0r) - state_fab(i, j - 1, k, Idx::u0i)*state_fab(i, j, k, Idx::p0r) - state_fab(i, j - 1, k, Idx::u0r)*state_fab(i, j, k, Idx::p0i) + state_fab(i, j - 2, k, Idx::p0i)*state_fab(i, j - 2, k, Idx::u0r) - state_fab(i, j - 2, k, Idx::p0r)*state_fab(i, j - 2, k, Idx::u0i))*state_fab(i, j - 1, k, Idx::u0i) - (-r*state_fab(i + 1, j - 1, k, Idx::p1i)*state_fab(i, j - 1, k, Idx::u0r) - r*state_fab(i + 1, j - 1, k, Idx::p1r)*state_fab(i, j - 1, k, Idx::u0i) - r*state_fab(i - 1, j - 1, k, Idx::p1i)*state_fab(i - 1, j - 1, k, Idx::u0r) + r*state_fab(i - 1, j - 1, k, Idx::p1r)*state_fab(i - 1, j - 1, k, Idx::u0i) - r*state_fab(i, j - 1, k, Idx::u0i)*state_fab(i, j, k, Idx::p1r) - r*state_fab(i, j - 1, k, Idx::u0r)*state_fab(i, j, k, Idx::p1i) - r*state_fab(i, j - 2, k, Idx::p1i)*state_fab(i, j - 2, k, Idx::u0r) + r*state_fab(i, j - 2, k, Idx::p1r)*state_fab(i, j - 2, k, Idx::u0i) + (-m - 2)*state_fab(i, j - 1, k, Idx::p1i) + state_fab(i + 1, j - 1, k, Idx::p0i)*state_fab(i, j - 1, k, Idx::u0r) + state_fab(i + 1, j - 1, k, Idx::p0r)*state_fab(i, j - 1, k, Idx::u0i) - state_fab(i - 1, j - 1, k, Idx::p0i)*state_fab(i - 1, j - 1, k, Idx::u0r) + state_fab(i - 1, j - 1, k, Idx::p0r)*state_fab(i - 1, j - 1, k, Idx::u0i) - state_fab(i, j - 1, k, Idx::u0i)*state_fab(i, j, k, Idx::p0i) + state_fab(i, j - 1, k, Idx::u0r)*state_fab(i, j, k, Idx::p0r) - state_fab(i, j - 2, k, Idx::p0i)*state_fab(i, j - 2, k, Idx::u0i) - state_fab(i, j - 2, k, Idx::p0r)*state_fab(i, j - 2, k, Idx::u0r))*state_fab(i, j - 1, k, Idx::u0r);\n",
      "        amrex::Real OpOpPsiReal_U_1 = -r*(r*state_fab(i + 1, j + 1, k, Idx::p1i)*state_fab(i + 1, j, k, Idx::u0i) - r*state_fab(i + 1, j + 1, k, Idx::p1r)*state_fab(i + 1, j, k, Idx::u0r) - r*state_fab(i + 1, j - 1, k, Idx::p1i)*state_fab(i + 1, j - 1, k, Idx::u0i) - r*state_fab(i + 1, j - 1, k, Idx::p1r)*state_fab(i + 1, j - 1, k, Idx::u0r) + r*state_fab(i + 1, j, k, Idx::u0i)*state_fab(i + 2, j, k, Idx::p1i) - r*state_fab(i + 1, j, k, Idx::u0r)*state_fab(i + 2, j, k, Idx::p1r) - r*state_fab(i, j, k, Idx::p1i)*state_fab(i, j, k, Idx::u0i) - r*state_fab(i, j, k, Idx::p1r)*state_fab(i, j, k, Idx::u0r) + (-m - 2)*state_fab(i + 1, j, k, Idx::p1r) - state_fab(i + 1, j + 1, k, Idx::p0i)*state_fab(i + 1, j, k, Idx::u0r) - state_fab(i + 1, j + 1, k, Idx::p0r)*state_fab(i + 1, j, k, Idx::u0i) + state_fab(i + 1, j - 1, k, Idx::p0i)*state_fab(i + 1, j - 1, k, Idx::u0r) - state_fab(i + 1, j - 1, k, Idx::p0r)*state_fab(i + 1, j - 1, k, Idx::u0i) - state_fab(i + 1, j, k, Idx::u0i)*state_fab(i + 2, j, k, Idx::p0i) + state_fab(i + 1, j, k, Idx::u0r)*state_fab(i + 2, j, k, Idx::p0r) - state_fab(i, j, k, Idx::p0i)*state_fab(i, j, k, Idx::u0i) - state_fab(i, j, k, Idx::p0r)*state_fab(i, j, k, Idx::u0r))*state_fab(i, j, k, Idx::u0r) + r*(-r*state_fab(i + 1, j + 1, k, Idx::p1i)*state_fab(i + 1, j, k, Idx::u0r) - r*state_fab(i + 1, j + 1, k, Idx::p1r)*state_fab(i + 1, j, k, Idx::u0i) - r*state_fab(i + 1, j - 1, k, Idx::p1i)*state_fab(i + 1, j - 1, k, Idx::u0r) + r*state_fab(i + 1, j - 1, k, Idx::p1r)*state_fab(i + 1, j - 1, k, Idx::u0i) - r*state_fab(i + 1, j, k, Idx::u0i)*state_fab(i + 2, j, k, Idx::p1r) - r*state_fab(i + 1, j, k, Idx::u0r)*state_fab(i + 2, j, k, Idx::p1i) - r*state_fab(i, j, k, Idx::p1i)*state_fab(i, j, k, Idx::u0r) + r*state_fab(i, j, k, Idx::p1r)*state_fab(i, j, k, Idx::u0i) + (-m - 2)*state_fab(i + 1, j, k, Idx::p1i) - state_fab(i + 1, j + 1, k, Idx::p0i)*state_fab(i + 1, j, k, Idx::u0i) + state_fab(i + 1, j + 1, k, Idx::p0r)*state_fab(i + 1, j, k, Idx::u0r) - state_fab(i + 1, j - 1, k, Idx::p0i)*state_fab(i + 1, j - 1, k, Idx::u0i) - state_fab(i + 1, j - 1, k, Idx::p0r)*state_fab(i + 1, j - 1, k, Idx::u0r) + state_fab(i + 1, j, k, Idx::u0i)*state_fab(i + 2, j, k, Idx::p0r) + state_fab(i + 1, j, k, Idx::u0r)*state_fab(i + 2, j, k, Idx::p0i) - state_fab(i, j, k, Idx::p0i)*state_fab(i, j, k, Idx::u0r) + state_fab(i, j, k, Idx::p0r)*state_fab(i, j, k, Idx::u0i))*state_fab(i, j, k, Idx::u0i) - r*(r*state_fab(i + 1, j + 1, k, Idx::p1i)*state_fab(i, j + 1, k, Idx::u0i) - r*state_fab(i + 1, j + 1, k, Idx::p1r)*state_fab(i, j + 1, k, Idx::u0r) - r*state_fab(i - 1, j + 1, k, Idx::p1i)*state_fab(i - 1, j + 1, k, Idx::u0i) - r*state_fab(i - 1, j + 1, k, Idx::p1r)*state_fab(i - 1, j + 1, k, Idx::u0r) + r*state_fab(i, j + 1, k, Idx::u0i)*state_fab(i, j + 2, k, Idx::p1i) - r*state_fab(i, j + 1, k, Idx::u0r)*state_fab(i, j + 2, k, Idx::p1r) - r*state_fab(i, j, k, Idx::p1i)*state_fab(i, j, k, Idx::u0i) - r*state_fab(i, j, k, Idx::p1r)*state_fab(i, j, k, Idx::u0r) + (-m - 2)*state_fab(i, j + 1, k, Idx::p1r) - state_fab(i + 1, j + 1, k, Idx::p0i)*state_fab(i, j + 1, k, Idx::u0i) + state_fab(i + 1, j + 1, k, Idx::p0r)*state_fab(i, j + 1, k, Idx::u0r) - state_fab(i - 1, j + 1, k, Idx::p0i)*state_fab(i - 1, j + 1, k, Idx::u0i) - state_fab(i - 1, j + 1, k, Idx::p0r)*state_fab(i - 1, j + 1, k, Idx::u0r) - state_fab(i, j + 1, k, Idx::u0i)*state_fab(i, j + 2, k, Idx::p0r) - state_fab(i, j + 1, k, Idx::u0r)*state_fab(i, j + 2, k, Idx::p0i) + state_fab(i, j, k, Idx::p0i)*state_fab(i, j, k, Idx::u0r) - state_fab(i, j, k, Idx::p0r)*state_fab(i, j, k, Idx::u0i))*state_fab(i, j, k, Idx::u0r) + r*(-r*state_fab(i + 1, j + 1, k, Idx::p1i)*state_fab(i, j + 1, k, Idx::u0r) - r*state_fab(i + 1, j + 1, k, Idx::p1r)*state_fab(i, j + 1, k, Idx::u0i) - r*state_fab(i - 1, j + 1, k, Idx::p1i)*state_fab(i - 1, j + 1, k, Idx::u0r) + r*state_fab(i - 1, j + 1, k, Idx::p1r)*state_fab(i - 1, j + 1, k, Idx::u0i) - r*state_fab(i, j + 1, k, Idx::u0i)*state_fab(i, j + 2, k, Idx::p1r) - r*state_fab(i, j + 1, k, Idx::u0r)*state_fab(i, j + 2, k, Idx::p1i) - r*state_fab(i, j, k, Idx::p1i)*state_fab(i, j, k, Idx::u0r) + r*state_fab(i, j, k, Idx::p1r)*state_fab(i, j, k, Idx::u0i) + (-m - 2)*state_fab(i, j + 1, k, Idx::p1i) + state_fab(i + 1, j + 1, k, Idx::p0i)*state_fab(i, j + 1, k, Idx::u0r) + state_fab(i + 1, j + 1, k, Idx::p0r)*state_fab(i, j + 1, k, Idx::u0i) - state_fab(i - 1, j + 1, k, Idx::p0i)*state_fab(i - 1, j + 1, k, Idx::u0r) + state_fab(i - 1, j + 1, k, Idx::p0r)*state_fab(i - 1, j + 1, k, Idx::u0i) - state_fab(i, j + 1, k, Idx::u0i)*state_fab(i, j + 2, k, Idx::p0i) + state_fab(i, j + 1, k, Idx::u0r)*state_fab(i, j + 2, k, Idx::p0r) - state_fab(i, j, k, Idx::p0i)*state_fab(i, j, k, Idx::u0i) - state_fab(i, j, k, Idx::p0r)*state_fab(i, j, k, Idx::u0r))*state_fab(i, j, k, Idx::u0i) - r*(r*state_fab(i + 1, j - 1, k, Idx::p1i)*state_fab(i, j - 1, k, Idx::u0i) - r*state_fab(i + 1, j - 1, k, Idx::p1r)*state_fab(i, j - 1, k, Idx::u0r) - r*state_fab(i - 1, j - 1, k, Idx::p1i)*state_fab(i - 1, j - 1, k, Idx::u0i) - r*state_fab(i - 1, j - 1, k, Idx::p1r)*state_fab(i - 1, j - 1, k, Idx::u0r) + r*state_fab(i, j - 1, k, Idx::u0i)*state_fab(i, j, k, Idx::p1i) - r*state_fab(i, j - 1, k, Idx::u0r)*state_fab(i, j, k, Idx::p1r) - r*state_fab(i, j - 2, k, Idx::p1i)*state_fab(i, j - 2, k, Idx::u0i) - r*state_fab(i, j - 2, k, Idx::p1r)*state_fab(i, j - 2, k, Idx::u0r) + (-m - 2)*state_fab(i, j - 1, k, Idx::p1r) - state_fab(i + 1, j - 1, k, Idx::p0i)*state_fab(i, j - 1, k, Idx::u0i) + state_fab(i + 1, j - 1, k, Idx::p0r)*state_fab(i, j - 1, k, Idx::u0r) - state_fab(i - 1, j - 1, k, Idx::p0i)*state_fab(i - 1, j - 1, k, Idx::u0i) - state_fab(i - 1, j - 1, k, Idx::p0r)*state_fab(i - 1, j - 1, k, Idx::u0r) - state_fab(i, j - 1, k, Idx::u0i)*state_fab(i, j, k, Idx::p0r) - state_fab(i, j - 1, k, Idx::u0r)*state_fab(i, j, k, Idx::p0i) + state_fab(i, j - 2, k, Idx::p0i)*state_fab(i, j - 2, k, Idx::u0r) - state_fab(i, j - 2, k, Idx::p0r)*state_fab(i, j - 2, k, Idx::u0i))*state_fab(i, j - 1, k, Idx::u0r) - r*(-r*state_fab(i + 1, j - 1, k, Idx::p1i)*state_fab(i, j - 1, k, Idx::u0r) - r*state_fab(i + 1, j - 1, k, Idx::p1r)*state_fab(i, j - 1, k, Idx::u0i) - r*state_fab(i - 1, j - 1, k, Idx::p1i)*state_fab(i - 1, j - 1, k, Idx::u0r) + r*state_fab(i - 1, j - 1, k, Idx::p1r)*state_fab(i - 1, j - 1, k, Idx::u0i) - r*state_fab(i, j - 1, k, Idx::u0i)*state_fab(i, j, k, Idx::p1r) - r*state_fab(i, j - 1, k, Idx::u0r)*state_fab(i, j, k, Idx::p1i) - r*state_fab(i, j - 2, k, Idx::p1i)*state_fab(i, j - 2, k, Idx::u0r) + r*state_fab(i, j - 2, k, Idx::p1r)*state_fab(i, j - 2, k, Idx::u0i) + (-m - 2)*state_fab(i, j - 1, k, Idx::p1i) + state_fab(i + 1, j - 1, k, Idx::p0i)*state_fab(i, j - 1, k, Idx::u0r) + state_fab(i + 1, j - 1, k, Idx::p0r)*state_fab(i, j - 1, k, Idx::u0i) - state_fab(i - 1, j - 1, k, Idx::p0i)*state_fab(i - 1, j - 1, k, Idx::u0r) + state_fab(i - 1, j - 1, k, Idx::p0r)*state_fab(i - 1, j - 1, k, Idx::u0i) - state_fab(i, j - 1, k, Idx::u0i)*state_fab(i, j, k, Idx::p0i) + state_fab(i, j - 1, k, Idx::u0r)*state_fab(i, j, k, Idx::p0r) - state_fab(i, j - 2, k, Idx::p0i)*state_fab(i, j - 2, k, Idx::u0i) - state_fab(i, j - 2, k, Idx::p0r)*state_fab(i, j - 2, k, Idx::u0r))*state_fab(i, j - 1, k, Idx::u0i) - r*(r*state_fab(i - 1, j + 1, k, Idx::p1i)*state_fab(i - 1, j, k, Idx::u0i) - r*state_fab(i - 1, j + 1, k, Idx::p1r)*state_fab(i - 1, j, k, Idx::u0r) - r*state_fab(i - 1, j - 1, k, Idx::p1i)*state_fab(i - 1, j - 1, k, Idx::u0i) - r*state_fab(i - 1, j - 1, k, Idx::p1r)*state_fab(i - 1, j - 1, k, Idx::u0r) + r*state_fab(i - 1, j, k, Idx::u0i)*state_fab(i, j, k, Idx::p1i) - r*state_fab(i - 1, j, k, Idx::u0r)*state_fab(i, j, k, Idx::p1r) - r*state_fab(i - 2, j, k, Idx::p1i)*state_fab(i - 2, j, k, Idx::u0i) - r*state_fab(i - 2, j, k, Idx::p1r)*state_fab(i - 2, j, k, Idx::u0r) + (-m - 2)*state_fab(i - 1, j, k, Idx::p1r) - state_fab(i - 1, j + 1, k, Idx::p0i)*state_fab(i - 1, j, k, Idx::u0r) - state_fab(i - 1, j + 1, k, Idx::p0r)*state_fab(i - 1, j, k, Idx::u0i) + state_fab(i - 1, j - 1, k, Idx::p0i)*state_fab(i - 1, j - 1, k, Idx::u0r) - state_fab(i - 1, j - 1, k, Idx::p0r)*state_fab(i - 1, j - 1, k, Idx::u0i) - state_fab(i - 1, j, k, Idx::u0i)*state_fab(i, j, k, Idx::p0i) + state_fab(i - 1, j, k, Idx::u0r)*state_fab(i, j, k, Idx::p0r) - state_fab(i - 2, j, k, Idx::p0i)*state_fab(i - 2, j, k, Idx::u0i) - state_fab(i - 2, j, k, Idx::p0r)*state_fab(i - 2, j, k, Idx::u0r))*state_fab(i - 1, j, k, Idx::u0r) - r*(-r*state_fab(i - 1, j + 1, k, Idx::p1i)*state_fab(i - 1, j, k, Idx::u0r) - r*state_fab(i - 1, j + 1, k, Idx::p1r)*state_fab(i - 1, j, k, Idx::u0i) - r*state_fab(i - 1, j - 1, k, Idx::p1i)*state_fab(i - 1, j - 1, k, Idx::u0r) + r*state_fab(i - 1, j - 1, k, Idx::p1r)*state_fab(i - 1, j - 1, k, Idx::u0i) - r*state_fab(i - 1, j, k, Idx::u0i)*state_fab(i, j, k, Idx::p1r) - r*state_fab(i - 1, j, k, Idx::u0r)*state_fab(i, j, k, Idx::p1i) - r*state_fab(i - 2, j, k, Idx::p1i)*state_fab(i - 2, j, k, Idx::u0r) + r*state_fab(i - 2, j, k, Idx::p1r)*state_fab(i - 2, j, k, Idx::u0i) + (-m - 2)*state_fab(i - 1, j, k, Idx::p1i) - state_fab(i - 1, j + 1, k, Idx::p0i)*state_fab(i - 1, j, k, Idx::u0i) + state_fab(i - 1, j + 1, k, Idx::p0r)*state_fab(i - 1, j, k, Idx::u0r) - state_fab(i - 1, j - 1, k, Idx::p0i)*state_fab(i - 1, j - 1, k, Idx::u0i) - state_fab(i - 1, j - 1, k, Idx::p0r)*state_fab(i - 1, j - 1, k, Idx::u0r) + state_fab(i - 1, j, k, Idx::u0i)*state_fab(i, j, k, Idx::p0r) + state_fab(i - 1, j, k, Idx::u0r)*state_fab(i, j, k, Idx::p0i) - state_fab(i - 2, j, k, Idx::p0i)*state_fab(i - 2, j, k, Idx::u0r) + state_fab(i - 2, j, k, Idx::p0r)*state_fab(i - 2, j, k, Idx::u0i))*state_fab(i - 1, j, k, Idx::u0i) + (-m - 2)*(r*state_fab(i + 1, j, k, Idx::p1i)*state_fab(i, j, k, Idx::u0i) - r*state_fab(i + 1, j, k, Idx::p1r)*state_fab(i, j, k, Idx::u0r) - r*state_fab(i - 1, j, k, Idx::p1i)*state_fab(i - 1, j, k, Idx::u0i) - r*state_fab(i - 1, j, k, Idx::p1r)*state_fab(i - 1, j, k, Idx::u0r) + r*state_fab(i, j + 1, k, Idx::p1i)*state_fab(i, j, k, Idx::u0i) - r*state_fab(i, j + 1, k, Idx::p1r)*state_fab(i, j, k, Idx::u0r) - r*state_fab(i, j - 1, k, Idx::p1i)*state_fab(i, j - 1, k, Idx::u0i) - r*state_fab(i, j - 1, k, Idx::p1r)*state_fab(i, j - 1, k, Idx::u0r) + (-m - 2)*state_fab(i, j, k, Idx::p1r) - state_fab(i + 1, j, k, Idx::p0i)*state_fab(i, j, k, Idx::u0i) + state_fab(i + 1, j, k, Idx::p0r)*state_fab(i, j, k, Idx::u0r) - state_fab(i - 1, j, k, Idx::p0i)*state_fab(i - 1, j, k, Idx::u0i) - state_fab(i - 1, j, k, Idx::p0r)*state_fab(i - 1, j, k, Idx::u0r) - state_fab(i, j + 1, k, Idx::p0i)*state_fab(i, j, k, Idx::u0r) - state_fab(i, j + 1, k, Idx::p0r)*state_fab(i, j, k, Idx::u0i) + state_fab(i, j - 1, k, Idx::p0i)*state_fab(i, j - 1, k, Idx::u0r) - state_fab(i, j - 1, k, Idx::p0r)*state_fab(i, j - 1, k, Idx::u0i)) + (m + 2)*state_fab(i + 1, j, k, Idx::p0i)*state_fab(i, j, k, Idx::u0i) - (m + 2)*state_fab(i + 1, j, k, Idx::p0r)*state_fab(i, j, k, Idx::u0r) + (m + 2)*state_fab(i - 1, j, k, Idx::p0i)*state_fab(i - 1, j, k, Idx::u0i) + (m + 2)*state_fab(i - 1, j, k, Idx::p0r)*state_fab(i - 1, j, k, Idx::u0r) - (-r*state_fab(i + 1, j + 1, k, Idx::p0i)*state_fab(i + 1, j, k, Idx::u0i) + r*state_fab(i + 1, j + 1, k, Idx::p0r)*state_fab(i + 1, j, k, Idx::u0r) - state_fab(i + 1, j + 1, k, Idx::p1i)*state_fab(i + 1, j, k, Idx::u0r) - state_fab(i + 1, j + 1, k, Idx::p1r)*state_fab(i + 1, j, k, Idx::u0i))*state_fab(i, j, k, Idx::u0r) + (r*state_fab(i + 1, j + 1, k, Idx::p0i)*state_fab(i + 1, j, k, Idx::u0r) + r*state_fab(i + 1, j + 1, k, Idx::p0r)*state_fab(i + 1, j, k, Idx::u0i) - state_fab(i + 1, j + 1, k, Idx::p1i)*state_fab(i + 1, j, k, Idx::u0i) + state_fab(i + 1, j + 1, k, Idx::p1r)*state_fab(i + 1, j, k, Idx::u0r))*state_fab(i, j, k, Idx::u0i) + (-r*state_fab(i + 1, j - 1, k, Idx::p0i)*state_fab(i + 1, j - 1, k, Idx::u0i) - r*state_fab(i + 1, j - 1, k, Idx::p0r)*state_fab(i + 1, j - 1, k, Idx::u0r) - state_fab(i + 1, j - 1, k, Idx::p1i)*state_fab(i + 1, j - 1, k, Idx::u0r) + state_fab(i + 1, j - 1, k, Idx::p1r)*state_fab(i + 1, j - 1, k, Idx::u0i))*state_fab(i, j, k, Idx::u0r) - (-r*state_fab(i + 1, j - 1, k, Idx::p0i)*state_fab(i + 1, j - 1, k, Idx::u0r) + r*state_fab(i + 1, j - 1, k, Idx::p0r)*state_fab(i + 1, j - 1, k, Idx::u0i) + state_fab(i + 1, j - 1, k, Idx::p1i)*state_fab(i + 1, j - 1, k, Idx::u0i) + state_fab(i + 1, j - 1, k, Idx::p1r)*state_fab(i + 1, j - 1, k, Idx::u0r))*state_fab(i, j, k, Idx::u0i) + (r*state_fab(i + 1, j, k, Idx::u0i)*state_fab(i + 2, j, k, Idx::p0i) - r*state_fab(i + 1, j, k, Idx::u0r)*state_fab(i + 2, j, k, Idx::p0r) - state_fab(i + 1, j, k, Idx::u0i)*state_fab(i + 2, j, k, Idx::p1i) + state_fab(i + 1, j, k, Idx::u0r)*state_fab(i + 2, j, k, Idx::p1r))*state_fab(i, j, k, Idx::u0r) - (-r*state_fab(i + 1, j, k, Idx::u0i)*state_fab(i + 2, j, k, Idx::p0r) - r*state_fab(i + 1, j, k, Idx::u0r)*state_fab(i + 2, j, k, Idx::p0i) + state_fab(i + 1, j, k, Idx::u0i)*state_fab(i + 2, j, k, Idx::p1r) + state_fab(i + 1, j, k, Idx::u0r)*state_fab(i + 2, j, k, Idx::p1i))*state_fab(i, j, k, Idx::u0i) + (-r*state_fab(i - 1, j + 1, k, Idx::p0i)*state_fab(i - 1, j, k, Idx::u0i) + r*state_fab(i - 1, j + 1, k, Idx::p0r)*state_fab(i - 1, j, k, Idx::u0r) - state_fab(i - 1, j + 1, k, Idx::p1i)*state_fab(i - 1, j, k, Idx::u0r) - state_fab(i - 1, j + 1, k, Idx::p1r)*state_fab(i - 1, j, k, Idx::u0i))*state_fab(i - 1, j, k, Idx::u0r) + (r*state_fab(i - 1, j + 1, k, Idx::p0i)*state_fab(i - 1, j, k, Idx::u0r) + r*state_fab(i - 1, j + 1, k, Idx::p0r)*state_fab(i - 1, j, k, Idx::u0i) - state_fab(i - 1, j + 1, k, Idx::p1i)*state_fab(i - 1, j, k, Idx::u0i) + state_fab(i - 1, j + 1, k, Idx::p1r)*state_fab(i - 1, j, k, Idx::u0r))*state_fab(i - 1, j, k, Idx::u0i) - (-r*state_fab(i - 1, j - 1, k, Idx::p0i)*state_fab(i - 1, j - 1, k, Idx::u0i) - r*state_fab(i - 1, j - 1, k, Idx::p0r)*state_fab(i - 1, j - 1, k, Idx::u0r) - state_fab(i - 1, j - 1, k, Idx::p1i)*state_fab(i - 1, j - 1, k, Idx::u0r) + state_fab(i - 1, j - 1, k, Idx::p1r)*state_fab(i - 1, j - 1, k, Idx::u0i))*state_fab(i - 1, j, k, Idx::u0r) - (-r*state_fab(i - 1, j - 1, k, Idx::p0i)*state_fab(i - 1, j - 1, k, Idx::u0r) + r*state_fab(i - 1, j - 1, k, Idx::p0r)*state_fab(i - 1, j - 1, k, Idx::u0i) + state_fab(i - 1, j - 1, k, Idx::p1i)*state_fab(i - 1, j - 1, k, Idx::u0i) + state_fab(i - 1, j - 1, k, Idx::p1r)*state_fab(i - 1, j - 1, k, Idx::u0r))*state_fab(i - 1, j, k, Idx::u0i) - (r*state_fab(i - 1, j, k, Idx::u0i)*state_fab(i, j, k, Idx::p0i) - r*state_fab(i - 1, j, k, Idx::u0r)*state_fab(i, j, k, Idx::p0r) - state_fab(i - 1, j, k, Idx::u0i)*state_fab(i, j, k, Idx::p1i) + state_fab(i - 1, j, k, Idx::u0r)*state_fab(i, j, k, Idx::p1r))*state_fab(i - 1, j, k, Idx::u0r) - (-r*state_fab(i - 1, j, k, Idx::u0i)*state_fab(i, j, k, Idx::p0r) - r*state_fab(i - 1, j, k, Idx::u0r)*state_fab(i, j, k, Idx::p0i) + state_fab(i - 1, j, k, Idx::u0i)*state_fab(i, j, k, Idx::p1r) + state_fab(i - 1, j, k, Idx::u0r)*state_fab(i, j, k, Idx::p1i))*state_fab(i - 1, j, k, Idx::u0i) - (-r*state_fab(i - 2, j, k, Idx::p0i)*state_fab(i - 2, j, k, Idx::u0i) - r*state_fab(i - 2, j, k, Idx::p0r)*state_fab(i - 2, j, k, Idx::u0r) - state_fab(i - 2, j, k, Idx::p1i)*state_fab(i - 2, j, k, Idx::u0i) - state_fab(i - 2, j, k, Idx::p1r)*state_fab(i - 2, j, k, Idx::u0r))*state_fab(i - 1, j, k, Idx::u0r) - (-r*state_fab(i - 2, j, k, Idx::p0i)*state_fab(i - 2, j, k, Idx::u0r) + r*state_fab(i - 2, j, k, Idx::p0r)*state_fab(i - 2, j, k, Idx::u0i) - state_fab(i - 2, j, k, Idx::p1i)*state_fab(i - 2, j, k, Idx::u0r) + state_fab(i - 2, j, k, Idx::p1r)*state_fab(i - 2, j, k, Idx::u0i))*state_fab(i - 1, j, k, Idx::u0i) + (-r*state_fab(i, j, k, Idx::p0i)*state_fab(i, j, k, Idx::u0i) - r*state_fab(i, j, k, Idx::p0r)*state_fab(i, j, k, Idx::u0r) - state_fab(i, j, k, Idx::p1i)*state_fab(i, j, k, Idx::u0i) - state_fab(i, j, k, Idx::p1r)*state_fab(i, j, k, Idx::u0r))*state_fab(i, j, k, Idx::u0r) - (-r*state_fab(i, j, k, Idx::p0i)*state_fab(i, j, k, Idx::u0r) + r*state_fab(i, j, k, Idx::p0r)*state_fab(i, j, k, Idx::u0i) - state_fab(i, j, k, Idx::p1i)*state_fab(i, j, k, Idx::u0r) + state_fab(i, j, k, Idx::p1r)*state_fab(i, j, k, Idx::u0i))*state_fab(i, j, k, Idx::u0i) - (r*state_fab(i + 1, j + 1, k, Idx::p0i)*state_fab(i, j + 1, k, Idx::u0i) - r*state_fab(i + 1, j + 1, k, Idx::p0r)*state_fab(i, j + 1, k, Idx::u0r) - r*state_fab(i - 1, j + 1, k, Idx::p0i)*state_fab(i - 1, j + 1, k, Idx::u0i) - r*state_fab(i - 1, j + 1, k, Idx::p0r)*state_fab(i - 1, j + 1, k, Idx::u0r) + r*state_fab(i, j + 1, k, Idx::u0i)*state_fab(i, j + 2, k, Idx::p0i) - r*state_fab(i, j + 1, k, Idx::u0r)*state_fab(i, j + 2, k, Idx::p0r) - r*state_fab(i, j, k, Idx::p0i)*state_fab(i, j, k, Idx::u0i) - r*state_fab(i, j, k, Idx::p0r)*state_fab(i, j, k, Idx::u0r) + (-m - 2)*state_fab(i, j + 1, k, Idx::p0r) - state_fab(i + 1, j + 1, k, Idx::p1i)*state_fab(i, j + 1, k, Idx::u0i) + state_fab(i + 1, j + 1, k, Idx::p1r)*state_fab(i, j + 1, k, Idx::u0r) - state_fab(i - 1, j + 1, k, Idx::p1i)*state_fab(i - 1, j + 1, k, Idx::u0i) - state_fab(i - 1, j + 1, k, Idx::p1r)*state_fab(i - 1, j + 1, k, Idx::u0r) + state_fab(i, j + 1, k, Idx::u0i)*state_fab(i, j + 2, k, Idx::p1r) + state_fab(i, j + 1, k, Idx::u0r)*state_fab(i, j + 2, k, Idx::p1i) - state_fab(i, j, k, Idx::p1i)*state_fab(i, j, k, Idx::u0r) + state_fab(i, j, k, Idx::p1r)*state_fab(i, j, k, Idx::u0i))*state_fab(i, j, k, Idx::u0i) - (-r*state_fab(i + 1, j + 1, k, Idx::p0i)*state_fab(i, j + 1, k, Idx::u0r) - r*state_fab(i + 1, j + 1, k, Idx::p0r)*state_fab(i, j + 1, k, Idx::u0i) - r*state_fab(i - 1, j + 1, k, Idx::p0i)*state_fab(i - 1, j + 1, k, Idx::u0r) + r*state_fab(i - 1, j + 1, k, Idx::p0r)*state_fab(i - 1, j + 1, k, Idx::u0i) - r*state_fab(i, j + 1, k, Idx::u0i)*state_fab(i, j + 2, k, Idx::p0r) - r*state_fab(i, j + 1, k, Idx::u0r)*state_fab(i, j + 2, k, Idx::p0i) - r*state_fab(i, j, k, Idx::p0i)*state_fab(i, j, k, Idx::u0r) + r*state_fab(i, j, k, Idx::p0r)*state_fab(i, j, k, Idx::u0i) + (-m - 2)*state_fab(i, j + 1, k, Idx::p0i) + state_fab(i + 1, j + 1, k, Idx::p1i)*state_fab(i, j + 1, k, Idx::u0r) + state_fab(i + 1, j + 1, k, Idx::p1r)*state_fab(i, j + 1, k, Idx::u0i) - state_fab(i - 1, j + 1, k, Idx::p1i)*state_fab(i - 1, j + 1, k, Idx::u0r) + state_fab(i - 1, j + 1, k, Idx::p1r)*state_fab(i - 1, j + 1, k, Idx::u0i) + state_fab(i, j + 1, k, Idx::u0i)*state_fab(i, j + 2, k, Idx::p1i) - state_fab(i, j + 1, k, Idx::u0r)*state_fab(i, j + 2, k, Idx::p1r) + state_fab(i, j, k, Idx::p1i)*state_fab(i, j, k, Idx::u0i) + state_fab(i, j, k, Idx::p1r)*state_fab(i, j, k, Idx::u0r))*state_fab(i, j, k, Idx::u0r) - (r*state_fab(i + 1, j - 1, k, Idx::p0i)*state_fab(i, j - 1, k, Idx::u0i) - r*state_fab(i + 1, j - 1, k, Idx::p0r)*state_fab(i, j - 1, k, Idx::u0r) - r*state_fab(i - 1, j - 1, k, Idx::p0i)*state_fab(i - 1, j - 1, k, Idx::u0i) - r*state_fab(i - 1, j - 1, k, Idx::p0r)*state_fab(i - 1, j - 1, k, Idx::u0r) + r*state_fab(i, j - 1, k, Idx::u0i)*state_fab(i, j, k, Idx::p0i) - r*state_fab(i, j - 1, k, Idx::u0r)*state_fab(i, j, k, Idx::p0r) - r*state_fab(i, j - 2, k, Idx::p0i)*state_fab(i, j - 2, k, Idx::u0i) - r*state_fab(i, j - 2, k, Idx::p0r)*state_fab(i, j - 2, k, Idx::u0r) + (-m - 2)*state_fab(i, j - 1, k, Idx::p0r) - state_fab(i + 1, j - 1, k, Idx::p1i)*state_fab(i, j - 1, k, Idx::u0i) + state_fab(i + 1, j - 1, k, Idx::p1r)*state_fab(i, j - 1, k, Idx::u0r) - state_fab(i - 1, j - 1, k, Idx::p1i)*state_fab(i - 1, j - 1, k, Idx::u0i) - state_fab(i - 1, j - 1, k, Idx::p1r)*state_fab(i - 1, j - 1, k, Idx::u0r) + state_fab(i, j - 1, k, Idx::u0i)*state_fab(i, j, k, Idx::p1r) + state_fab(i, j - 1, k, Idx::u0r)*state_fab(i, j, k, Idx::p1i) - state_fab(i, j - 2, k, Idx::p1i)*state_fab(i, j - 2, k, Idx::u0r) + state_fab(i, j - 2, k, Idx::p1r)*state_fab(i, j - 2, k, Idx::u0i))*state_fab(i, j - 1, k, Idx::u0i) + (-r*state_fab(i + 1, j - 1, k, Idx::p0i)*state_fab(i, j - 1, k, Idx::u0r) - r*state_fab(i + 1, j - 1, k, Idx::p0r)*state_fab(i, j - 1, k, Idx::u0i) - r*state_fab(i - 1, j - 1, k, Idx::p0i)*state_fab(i - 1, j - 1, k, Idx::u0r) + r*state_fab(i - 1, j - 1, k, Idx::p0r)*state_fab(i - 1, j - 1, k, Idx::u0i) - r*state_fab(i, j - 1, k, Idx::u0i)*state_fab(i, j, k, Idx::p0r) - r*state_fab(i, j - 1, k, Idx::u0r)*state_fab(i, j, k, Idx::p0i) - r*state_fab(i, j - 2, k, Idx::p0i)*state_fab(i, j - 2, k, Idx::u0r) + r*state_fab(i, j - 2, k, Idx::p0r)*state_fab(i, j - 2, k, Idx::u0i) + (-m - 2)*state_fab(i, j - 1, k, Idx::p0i) + state_fab(i + 1, j - 1, k, Idx::p1i)*state_fab(i, j - 1, k, Idx::u0r) + state_fab(i + 1, j - 1, k, Idx::p1r)*state_fab(i, j - 1, k, Idx::u0i) - state_fab(i - 1, j - 1, k, Idx::p1i)*state_fab(i - 1, j - 1, k, Idx::u0r) + state_fab(i - 1, j - 1, k, Idx::p1r)*state_fab(i - 1, j - 1, k, Idx::u0i) + state_fab(i, j - 1, k, Idx::u0i)*state_fab(i, j, k, Idx::p1i) - state_fab(i, j - 1, k, Idx::u0r)*state_fab(i, j, k, Idx::p1r) + state_fab(i, j - 2, k, Idx::p1i)*state_fab(i, j - 2, k, Idx::u0i) + state_fab(i, j - 2, k, Idx::p1r)*state_fab(i, j - 2, k, Idx::u0r))*state_fab(i, j - 1, k, Idx::u0r);\n",
      "\n",
      "\n"
     ]
    }
   ],
   "source": [
    "print(OpOpPsiReal_U.symb2isymb().replace(\"state_fabIdx\",\"Idx\"))"
   ]
  },
  {
   "cell_type": "code",
   "execution_count": null,
   "id": "4922bcbe",
   "metadata": {},
   "outputs": [],
   "source": []
  },
  {
   "cell_type": "code",
   "execution_count": null,
   "id": "6d835a10",
   "metadata": {},
   "outputs": [],
   "source": []
  },
  {
   "cell_type": "code",
   "execution_count": null,
   "id": "2ccd3b36",
   "metadata": {},
   "outputs": [],
   "source": []
  },
  {
   "cell_type": "code",
   "execution_count": null,
   "id": "b21a44ce",
   "metadata": {},
   "outputs": [],
   "source": []
  },
  {
   "cell_type": "code",
   "execution_count": null,
   "id": "3cf08532",
   "metadata": {},
   "outputs": [],
   "source": []
  },
  {
   "cell_type": "code",
   "execution_count": null,
   "id": "9e291eb0",
   "metadata": {},
   "outputs": [],
   "source": []
  },
  {
   "cell_type": "code",
   "execution_count": null,
   "id": "1da746de",
   "metadata": {},
   "outputs": [],
   "source": []
  }
 ],
 "metadata": {
  "kernelspec": {
   "display_name": "Python 3",
   "language": "python",
   "name": "python3"
  },
  "language_info": {
   "codemirror_mode": {
    "name": "ipython",
    "version": 3
   },
   "file_extension": ".py",
   "mimetype": "text/x-python",
   "name": "python",
   "nbconvert_exporter": "python",
   "pygments_lexer": "ipython3",
   "version": "3.8.10"
  }
 },
 "nbformat": 4,
 "nbformat_minor": 5
}
